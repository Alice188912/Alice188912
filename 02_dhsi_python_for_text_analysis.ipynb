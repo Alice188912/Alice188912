{
  "nbformat": 4,
  "nbformat_minor": 0,
  "metadata": {
    "colab": {
      "name": "02-dhsi-python-for-text-analysis.ipynb",
      "provenance": [],
      "collapsed_sections": [],
      "authorship_tag": "ABX9TyNpE2/H4gDMvjZBDgyBHyyZ",
      "include_colab_link": true
    },
    "kernelspec": {
      "name": "python3",
      "display_name": "Python 3"
    },
    "language_info": {
      "name": "python"
    }
  },
  "cells": [
    {
      "cell_type": "markdown",
      "metadata": {
        "id": "view-in-github",
        "colab_type": "text"
      },
      "source": [
        "<a href=\"https://colab.research.google.com/github/Alice188912/Alice188912/blob/main/02_dhsi_python_for_text_analysis.ipynb\" target=\"_parent\"><img src=\"https://colab.research.google.com/assets/colab-badge.svg\" alt=\"Open In Colab\"/></a>"
      ]
    },
    {
      "cell_type": "markdown",
      "source": [
        "[link to readings](https://via.hypothes.is/https://dhsi2022.jonreeve.com/static/readings/mikolov.pdf)\n",
        "\n",
        "[link to lecture video](https://tubedu.org/videos/watch/5746e37d-7581-4386-831b-e406cb6bb946)"
      ],
      "metadata": {
        "id": "rRUMlYpbM52k"
      }
    },
    {
      "cell_type": "markdown",
      "source": [
        "[link to spacy](https://spacy.io/)\n",
        "\n",
        "[link to my binder (something that can embed the runnable codes into the webpage](https://mybinder.org/)"
      ],
      "metadata": {
        "id": "e35mz-myOI51"
      }
    },
    {
      "cell_type": "code",
      "source": [
        "import spacy\n",
        "import nltk"
      ],
      "metadata": {
        "id": "5PiNEmttOMWM"
      },
      "execution_count": 46,
      "outputs": []
    },
    {
      "cell_type": "code",
      "source": [
        "from nltk.corpus import gutenberg"
      ],
      "metadata": {
        "id": "9eixx7VtR70s"
      },
      "execution_count": 47,
      "outputs": []
    },
    {
      "cell_type": "code",
      "source": [
        "nltk.download(\"gutenberg\")"
      ],
      "metadata": {
        "colab": {
          "base_uri": "https://localhost:8080/"
        },
        "id": "lBdTV1sDSDus",
        "outputId": "cf8d357b-4e00-4133-f3f2-54c248841bc1"
      },
      "execution_count": 48,
      "outputs": [
        {
          "output_type": "stream",
          "name": "stdout",
          "text": [
            "[nltk_data] Downloading package gutenberg to /root/nltk_data...\n",
            "[nltk_data]   Package gutenberg is already up-to-date!\n"
          ]
        },
        {
          "output_type": "execute_result",
          "data": {
            "text/plain": [
              "True"
            ]
          },
          "metadata": {},
          "execution_count": 48
        }
      ]
    },
    {
      "cell_type": "markdown",
      "source": [
        "enter spacy website, choose model, choose language\n",
        "\"web\": trained on internet speech (internet writings)\n",
        "\n",
        "em: too small, not very accurate\n",
        "\n",
        "so choose \"lg\": larger, but more accurate"
      ],
      "metadata": {
        "id": "AAhkw8ggQX6k"
      }
    },
    {
      "cell_type": "markdown",
      "source": [
        "**Now download and load English parser**"
      ],
      "metadata": {
        "id": "4omIXh-qRg3b"
      }
    },
    {
      "cell_type": "code",
      "source": [
        "spacy.cli.download(\"en_core_web_lg\")"
      ],
      "metadata": {
        "id": "jWwb8koxPJHL",
        "colab": {
          "base_uri": "https://localhost:8080/"
        },
        "outputId": "9bbeedb9-a550-43ec-f3c7-a5d032e59601"
      },
      "execution_count": 4,
      "outputs": [
        {
          "output_type": "stream",
          "name": "stdout",
          "text": [
            "\u001b[38;5;2m✔ Download and installation successful\u001b[0m\n",
            "You can now load the model via spacy.load('en_core_web_lg')\n"
          ]
        }
      ]
    },
    {
      "cell_type": "code",
      "source": [
        "nlp = spacy.load(\"en_core_web_lg\")"
      ],
      "metadata": {
        "id": "DrkVTmDVQ1HS"
      },
      "execution_count": 5,
      "outputs": []
    },
    {
      "cell_type": "code",
      "source": [
        "def spacy_most_similar(word, topn=10):\n",
        "    ms = nlp.vocab.vectors.most_similar(\n",
        "        nlp(word).vector.reshape(1,nlp(word).vector.shape[0]), n=topn)\n",
        "    words = [nlp.vocab.strings[w] for w in ms[0][0]]\n",
        "    distances = ms[2]\n",
        "    return words, distances"
      ],
      "metadata": {
        "id": "COGCRsBF7MsF"
      },
      "execution_count": 6,
      "outputs": []
    },
    {
      "cell_type": "markdown",
      "source": [
        "**all the files in gutenberg**"
      ],
      "metadata": {
        "id": "ky_lGkDzSROw"
      }
    },
    {
      "cell_type": "code",
      "source": [
        "gutenberg.fileids()"
      ],
      "metadata": {
        "id": "qauTCsGbRfs4",
        "colab": {
          "base_uri": "https://localhost:8080/"
        },
        "outputId": "b332d786-3534-4828-ab0a-e3494c9f140b"
      },
      "execution_count": 7,
      "outputs": [
        {
          "output_type": "execute_result",
          "data": {
            "text/plain": [
              "['austen-emma.txt',\n",
              " 'austen-persuasion.txt',\n",
              " 'austen-sense.txt',\n",
              " 'bible-kjv.txt',\n",
              " 'blake-poems.txt',\n",
              " 'bryant-stories.txt',\n",
              " 'burgess-busterbrown.txt',\n",
              " 'carroll-alice.txt',\n",
              " 'chesterton-ball.txt',\n",
              " 'chesterton-brown.txt',\n",
              " 'chesterton-thursday.txt',\n",
              " 'edgeworth-parents.txt',\n",
              " 'melville-moby_dick.txt',\n",
              " 'milton-paradise.txt',\n",
              " 'shakespeare-caesar.txt',\n",
              " 'shakespeare-hamlet.txt',\n",
              " 'shakespeare-macbeth.txt',\n",
              " 'whitman-leaves.txt']"
            ]
          },
          "metadata": {},
          "execution_count": 7
        }
      ]
    },
    {
      "cell_type": "code",
      "source": [
        "emma = gutenberg.raw('austen-emma.txt')"
      ],
      "metadata": {
        "id": "h2Yrcp5QSPuL"
      },
      "execution_count": 8,
      "outputs": []
    },
    {
      "cell_type": "code",
      "source": [
        "type(emma), len(emma)"
      ],
      "metadata": {
        "id": "NX0vaqHRSg0e",
        "colab": {
          "base_uri": "https://localhost:8080/"
        },
        "outputId": "8ff334d7-582b-4de9-8e1c-ec13c6333c53"
      },
      "execution_count": 9,
      "outputs": [
        {
          "output_type": "execute_result",
          "data": {
            "text/plain": [
              "(str, 887071)"
            ]
          },
          "metadata": {},
          "execution_count": 9
        }
      ]
    },
    {
      "cell_type": "markdown",
      "source": [
        "**get the first 500 words in Emma**"
      ],
      "metadata": {
        "id": "rE-QWKLVSsqK"
      }
    },
    {
      "cell_type": "code",
      "source": [
        "emma [:500]"
      ],
      "metadata": {
        "id": "sTSmcvWLSjwm",
        "colab": {
          "base_uri": "https://localhost:8080/",
          "height": 87
        },
        "outputId": "183a27a9-d106-4a02-b5f9-d7b946014ef4"
      },
      "execution_count": 10,
      "outputs": [
        {
          "output_type": "execute_result",
          "data": {
            "text/plain": [
              "\"[Emma by Jane Austen 1816]\\n\\nVOLUME I\\n\\nCHAPTER I\\n\\n\\nEmma Woodhouse, handsome, clever, and rich, with a comfortable home\\nand happy disposition, seemed to unite some of the best blessings\\nof existence; and had lived nearly twenty-one years in the world\\nwith very little to distress or vex her.\\n\\nShe was the youngest of the two daughters of a most affectionate,\\nindulgent father; and had, in consequence of her sister's marriage,\\nbeen mistress of his house from a very early period.  Her mother\\nhad died t\""
            ],
            "application/vnd.google.colaboratory.intrinsic+json": {
              "type": "string"
            }
          },
          "metadata": {},
          "execution_count": 10
        }
      ]
    },
    {
      "cell_type": "markdown",
      "source": [
        "**analyze Emma using spacy parser**"
      ],
      "metadata": {
        "id": "Z2onsj9fS9b4"
      }
    },
    {
      "cell_type": "code",
      "source": [
        "emmaDoc = nlp(emma)"
      ],
      "metadata": {
        "id": "oxFdDo14Srlz"
      },
      "execution_count": 11,
      "outputs": []
    },
    {
      "cell_type": "code",
      "source": [
        "len(emmaDoc)"
      ],
      "metadata": {
        "id": "6cwJKoDlS5iY"
      },
      "execution_count": null,
      "outputs": []
    },
    {
      "cell_type": "code",
      "source": [
        "emmaDoc[:30]"
      ],
      "metadata": {
        "id": "YY8EoV3-TUsg"
      },
      "execution_count": null,
      "outputs": []
    },
    {
      "cell_type": "code",
      "source": [
        "emmaDoc[26]"
      ],
      "metadata": {
        "id": "4L4Af4NHTX9K"
      },
      "execution_count": null,
      "outputs": []
    },
    {
      "cell_type": "code",
      "source": [
        "comfortable = emmaDoc[26]"
      ],
      "metadata": {
        "id": "hnqL_Lo6Tl_e"
      },
      "execution_count": null,
      "outputs": []
    },
    {
      "cell_type": "markdown",
      "source": [
        "use [GloVe](https://nlp.stanford.edu/projects/glove/)"
      ],
      "metadata": {
        "id": "KTCTLh0dUDs3"
      }
    },
    {
      "cell_type": "code",
      "source": [
        "comfortable.vector.shape"
      ],
      "metadata": {
        "id": "NukRiNaCTuYD"
      },
      "execution_count": null,
      "outputs": []
    },
    {
      "cell_type": "code",
      "source": [
        "emmaDoc.vector"
      ],
      "metadata": {
        "id": "cVDCQmz0UQkm"
      },
      "execution_count": null,
      "outputs": []
    },
    {
      "cell_type": "code",
      "source": [
        "emmaDoc.vector.shape"
      ],
      "metadata": {
        "id": "m5BHle9lUrUv"
      },
      "execution_count": null,
      "outputs": []
    },
    {
      "cell_type": "code",
      "source": [
        "emmaDoc[17]"
      ],
      "metadata": {
        "id": "cAPTy1zjUwEt",
        "colab": {
          "base_uri": "https://localhost:8080/"
        },
        "outputId": "d8baecc2-7aed-4517-a61d-5f175b0a3644"
      },
      "execution_count": 19,
      "outputs": [
        {
          "output_type": "execute_result",
          "data": {
            "text/plain": [
              "handsome"
            ]
          },
          "metadata": {},
          "execution_count": 19
        }
      ]
    },
    {
      "cell_type": "code",
      "source": [
        "handsome = emmaDoc[17]"
      ],
      "metadata": {
        "id": "uZo4LERr0Mon"
      },
      "execution_count": 20,
      "outputs": []
    },
    {
      "cell_type": "code",
      "source": [
        "clever = emmaDoc[19]"
      ],
      "metadata": {
        "id": "nHxgAN9czoIB"
      },
      "execution_count": 21,
      "outputs": []
    },
    {
      "cell_type": "code",
      "source": [
        "home = emmaDoc[27]"
      ],
      "metadata": {
        "id": "MJLbY1J5z94P"
      },
      "execution_count": 22,
      "outputs": []
    },
    {
      "cell_type": "markdown",
      "source": [
        "**compare the similarity between two words in a collection of texts**"
      ],
      "metadata": {
        "id": "BJVkYdGS0SYM"
      }
    },
    {
      "cell_type": "code",
      "source": [
        "comfortable.similarity(handsome)"
      ],
      "metadata": {
        "id": "Peej6PCN0D6O",
        "colab": {
          "base_uri": "https://localhost:8080/"
        },
        "outputId": "5db07475-7eb2-44cb-b036-58dec596c8bf"
      },
      "execution_count": 23,
      "outputs": [
        {
          "output_type": "execute_result",
          "data": {
            "text/plain": [
              "0.35752288"
            ]
          },
          "metadata": {},
          "execution_count": 23
        }
      ]
    },
    {
      "cell_type": "code",
      "source": [
        "handsome.similarity(clever)"
      ],
      "metadata": {
        "id": "F17VlDcQ0IcL",
        "colab": {
          "base_uri": "https://localhost:8080/"
        },
        "outputId": "5a486c74-d25f-45a4-a8e3-61062cf96f1a"
      },
      "execution_count": 24,
      "outputs": [
        {
          "output_type": "execute_result",
          "data": {
            "text/plain": [
              "0.47555932"
            ]
          },
          "metadata": {},
          "execution_count": 24
        }
      ]
    },
    {
      "cell_type": "markdown",
      "source": [
        "both are adj. used to describe person"
      ],
      "metadata": {
        "id": "k3lIhUNV0c-Y"
      }
    },
    {
      "cell_type": "code",
      "source": [
        "clever.similarity(comfortable)"
      ],
      "metadata": {
        "id": "UZqBL7MT0aRr",
        "colab": {
          "base_uri": "https://localhost:8080/"
        },
        "outputId": "6e4df5ea-4cee-4d0e-9edb-b31061045064"
      },
      "execution_count": 25,
      "outputs": [
        {
          "output_type": "execute_result",
          "data": {
            "text/plain": [
              "0.3180592"
            ]
          },
          "metadata": {},
          "execution_count": 25
        }
      ]
    },
    {
      "cell_type": "code",
      "source": [
        "handsome.similarity(home)"
      ],
      "metadata": {
        "id": "ZRXNyNZO0hAB",
        "colab": {
          "base_uri": "https://localhost:8080/"
        },
        "outputId": "0e1322c7-b6b2-409d-ddd0-2b581d3987b6"
      },
      "execution_count": 26,
      "outputs": [
        {
          "output_type": "execute_result",
          "data": {
            "text/plain": [
              "0.22793016"
            ]
          },
          "metadata": {},
          "execution_count": 26
        }
      ]
    },
    {
      "cell_type": "code",
      "source": [
        "comfortable.similarity(clever)"
      ],
      "metadata": {
        "id": "phq76zNz0iSs",
        "colab": {
          "base_uri": "https://localhost:8080/"
        },
        "outputId": "be9eac7e-e151-4b81-d974-4acdc50a154f"
      },
      "execution_count": 27,
      "outputs": [
        {
          "output_type": "execute_result",
          "data": {
            "text/plain": [
              "0.3180592"
            ]
          },
          "metadata": {},
          "execution_count": 27
        }
      ]
    },
    {
      "cell_type": "markdown",
      "source": [
        "**visualize the distance**"
      ],
      "metadata": {
        "id": "yqqOBo2a0pTL"
      }
    },
    {
      "cell_type": "code",
      "source": [
        "import pandas as pd"
      ],
      "metadata": {
        "id": "rYXHexo-0m5G"
      },
      "execution_count": 28,
      "outputs": []
    },
    {
      "cell_type": "markdown",
      "source": [
        "pandas is a dataset that keeps data"
      ],
      "metadata": {
        "id": "9ixiuKSc02nS"
      }
    },
    {
      "cell_type": "markdown",
      "source": [
        "*code for panda: \n",
        "\n",
        "pd.DataFrame([w.vector for w in [**a set of words**]])*"
      ],
      "metadata": {
        "id": "PlOtgdMS1L8L"
      }
    },
    {
      "cell_type": "code",
      "source": [
        "pd.DataFrame([w.vector for w in [handsome, comfortable, home, clever]])\n"
      ],
      "metadata": {
        "id": "qpdRhjbb005n",
        "colab": {
          "base_uri": "https://localhost:8080/",
          "height": 268
        },
        "outputId": "da52667d-8fd4-4c0c-af4c-d3f867f10ff2"
      },
      "execution_count": 29,
      "outputs": [
        {
          "output_type": "execute_result",
          "data": {
            "text/plain": [
              "       0         1        2         3         4        5         6        7    \\\n",
              "0 -0.48545 -0.311410 -0.29298 -0.187270 -0.066323  0.05497  0.454070 -0.68138   \n",
              "1  0.78552  0.055299 -0.43261 -0.036727  0.208960  0.11237  0.308550 -0.51400   \n",
              "2  0.13523  0.449920 -0.25227  0.048482  0.273690 -0.26302  0.019556 -0.42490   \n",
              "3 -0.58926  0.147720 -0.19443 -0.588550 -0.760750  0.46817 -0.010063 -0.34770   \n",
              "\n",
              "        8       9    ...      290       291       292       293       294  \\\n",
              "0  0.023334  1.6600  ... -0.34681 -0.323670  0.039442 -0.048334  0.052368   \n",
              "1  0.123760  1.9911  ...  0.22339  0.363900 -0.059476 -0.333110  0.385020   \n",
              "2  0.595290  2.9473  ... -0.15026 -0.013011 -0.029494  0.509120  0.280090   \n",
              "3  0.217640  1.4417  ... -0.87678  0.192930 -0.186320  0.473680  0.332330   \n",
              "\n",
              "        295       296       297       298       299  \n",
              "0  0.522350  0.740570  0.212870 -0.060673 -0.150150  \n",
              "1  0.449050  0.072339  0.348980  0.096942 -0.084233  \n",
              "2 -0.065423 -0.090613 -0.255070 -0.014630 -0.336080  \n",
              "3  0.012969  0.563530 -0.003613 -0.051081  0.078023  \n",
              "\n",
              "[4 rows x 300 columns]"
            ],
            "text/html": [
              "\n",
              "  <div id=\"df-76e9975e-9aae-4c17-9144-79d266beffbe\">\n",
              "    <div class=\"colab-df-container\">\n",
              "      <div>\n",
              "<style scoped>\n",
              "    .dataframe tbody tr th:only-of-type {\n",
              "        vertical-align: middle;\n",
              "    }\n",
              "\n",
              "    .dataframe tbody tr th {\n",
              "        vertical-align: top;\n",
              "    }\n",
              "\n",
              "    .dataframe thead th {\n",
              "        text-align: right;\n",
              "    }\n",
              "</style>\n",
              "<table border=\"1\" class=\"dataframe\">\n",
              "  <thead>\n",
              "    <tr style=\"text-align: right;\">\n",
              "      <th></th>\n",
              "      <th>0</th>\n",
              "      <th>1</th>\n",
              "      <th>2</th>\n",
              "      <th>3</th>\n",
              "      <th>4</th>\n",
              "      <th>5</th>\n",
              "      <th>6</th>\n",
              "      <th>7</th>\n",
              "      <th>8</th>\n",
              "      <th>9</th>\n",
              "      <th>...</th>\n",
              "      <th>290</th>\n",
              "      <th>291</th>\n",
              "      <th>292</th>\n",
              "      <th>293</th>\n",
              "      <th>294</th>\n",
              "      <th>295</th>\n",
              "      <th>296</th>\n",
              "      <th>297</th>\n",
              "      <th>298</th>\n",
              "      <th>299</th>\n",
              "    </tr>\n",
              "  </thead>\n",
              "  <tbody>\n",
              "    <tr>\n",
              "      <th>0</th>\n",
              "      <td>-0.48545</td>\n",
              "      <td>-0.311410</td>\n",
              "      <td>-0.29298</td>\n",
              "      <td>-0.187270</td>\n",
              "      <td>-0.066323</td>\n",
              "      <td>0.05497</td>\n",
              "      <td>0.454070</td>\n",
              "      <td>-0.68138</td>\n",
              "      <td>0.023334</td>\n",
              "      <td>1.6600</td>\n",
              "      <td>...</td>\n",
              "      <td>-0.34681</td>\n",
              "      <td>-0.323670</td>\n",
              "      <td>0.039442</td>\n",
              "      <td>-0.048334</td>\n",
              "      <td>0.052368</td>\n",
              "      <td>0.522350</td>\n",
              "      <td>0.740570</td>\n",
              "      <td>0.212870</td>\n",
              "      <td>-0.060673</td>\n",
              "      <td>-0.150150</td>\n",
              "    </tr>\n",
              "    <tr>\n",
              "      <th>1</th>\n",
              "      <td>0.78552</td>\n",
              "      <td>0.055299</td>\n",
              "      <td>-0.43261</td>\n",
              "      <td>-0.036727</td>\n",
              "      <td>0.208960</td>\n",
              "      <td>0.11237</td>\n",
              "      <td>0.308550</td>\n",
              "      <td>-0.51400</td>\n",
              "      <td>0.123760</td>\n",
              "      <td>1.9911</td>\n",
              "      <td>...</td>\n",
              "      <td>0.22339</td>\n",
              "      <td>0.363900</td>\n",
              "      <td>-0.059476</td>\n",
              "      <td>-0.333110</td>\n",
              "      <td>0.385020</td>\n",
              "      <td>0.449050</td>\n",
              "      <td>0.072339</td>\n",
              "      <td>0.348980</td>\n",
              "      <td>0.096942</td>\n",
              "      <td>-0.084233</td>\n",
              "    </tr>\n",
              "    <tr>\n",
              "      <th>2</th>\n",
              "      <td>0.13523</td>\n",
              "      <td>0.449920</td>\n",
              "      <td>-0.25227</td>\n",
              "      <td>0.048482</td>\n",
              "      <td>0.273690</td>\n",
              "      <td>-0.26302</td>\n",
              "      <td>0.019556</td>\n",
              "      <td>-0.42490</td>\n",
              "      <td>0.595290</td>\n",
              "      <td>2.9473</td>\n",
              "      <td>...</td>\n",
              "      <td>-0.15026</td>\n",
              "      <td>-0.013011</td>\n",
              "      <td>-0.029494</td>\n",
              "      <td>0.509120</td>\n",
              "      <td>0.280090</td>\n",
              "      <td>-0.065423</td>\n",
              "      <td>-0.090613</td>\n",
              "      <td>-0.255070</td>\n",
              "      <td>-0.014630</td>\n",
              "      <td>-0.336080</td>\n",
              "    </tr>\n",
              "    <tr>\n",
              "      <th>3</th>\n",
              "      <td>-0.58926</td>\n",
              "      <td>0.147720</td>\n",
              "      <td>-0.19443</td>\n",
              "      <td>-0.588550</td>\n",
              "      <td>-0.760750</td>\n",
              "      <td>0.46817</td>\n",
              "      <td>-0.010063</td>\n",
              "      <td>-0.34770</td>\n",
              "      <td>0.217640</td>\n",
              "      <td>1.4417</td>\n",
              "      <td>...</td>\n",
              "      <td>-0.87678</td>\n",
              "      <td>0.192930</td>\n",
              "      <td>-0.186320</td>\n",
              "      <td>0.473680</td>\n",
              "      <td>0.332330</td>\n",
              "      <td>0.012969</td>\n",
              "      <td>0.563530</td>\n",
              "      <td>-0.003613</td>\n",
              "      <td>-0.051081</td>\n",
              "      <td>0.078023</td>\n",
              "    </tr>\n",
              "  </tbody>\n",
              "</table>\n",
              "<p>4 rows × 300 columns</p>\n",
              "</div>\n",
              "      <button class=\"colab-df-convert\" onclick=\"convertToInteractive('df-76e9975e-9aae-4c17-9144-79d266beffbe')\"\n",
              "              title=\"Convert this dataframe to an interactive table.\"\n",
              "              style=\"display:none;\">\n",
              "        \n",
              "  <svg xmlns=\"http://www.w3.org/2000/svg\" height=\"24px\"viewBox=\"0 0 24 24\"\n",
              "       width=\"24px\">\n",
              "    <path d=\"M0 0h24v24H0V0z\" fill=\"none\"/>\n",
              "    <path d=\"M18.56 5.44l.94 2.06.94-2.06 2.06-.94-2.06-.94-.94-2.06-.94 2.06-2.06.94zm-11 1L8.5 8.5l.94-2.06 2.06-.94-2.06-.94L8.5 2.5l-.94 2.06-2.06.94zm10 10l.94 2.06.94-2.06 2.06-.94-2.06-.94-.94-2.06-.94 2.06-2.06.94z\"/><path d=\"M17.41 7.96l-1.37-1.37c-.4-.4-.92-.59-1.43-.59-.52 0-1.04.2-1.43.59L10.3 9.45l-7.72 7.72c-.78.78-.78 2.05 0 2.83L4 21.41c.39.39.9.59 1.41.59.51 0 1.02-.2 1.41-.59l7.78-7.78 2.81-2.81c.8-.78.8-2.07 0-2.86zM5.41 20L4 18.59l7.72-7.72 1.47 1.35L5.41 20z\"/>\n",
              "  </svg>\n",
              "      </button>\n",
              "      \n",
              "  <style>\n",
              "    .colab-df-container {\n",
              "      display:flex;\n",
              "      flex-wrap:wrap;\n",
              "      gap: 12px;\n",
              "    }\n",
              "\n",
              "    .colab-df-convert {\n",
              "      background-color: #E8F0FE;\n",
              "      border: none;\n",
              "      border-radius: 50%;\n",
              "      cursor: pointer;\n",
              "      display: none;\n",
              "      fill: #1967D2;\n",
              "      height: 32px;\n",
              "      padding: 0 0 0 0;\n",
              "      width: 32px;\n",
              "    }\n",
              "\n",
              "    .colab-df-convert:hover {\n",
              "      background-color: #E2EBFA;\n",
              "      box-shadow: 0px 1px 2px rgba(60, 64, 67, 0.3), 0px 1px 3px 1px rgba(60, 64, 67, 0.15);\n",
              "      fill: #174EA6;\n",
              "    }\n",
              "\n",
              "    [theme=dark] .colab-df-convert {\n",
              "      background-color: #3B4455;\n",
              "      fill: #D2E3FC;\n",
              "    }\n",
              "\n",
              "    [theme=dark] .colab-df-convert:hover {\n",
              "      background-color: #434B5C;\n",
              "      box-shadow: 0px 1px 3px 1px rgba(0, 0, 0, 0.15);\n",
              "      filter: drop-shadow(0px 1px 2px rgba(0, 0, 0, 0.3));\n",
              "      fill: #FFFFFF;\n",
              "    }\n",
              "  </style>\n",
              "\n",
              "      <script>\n",
              "        const buttonEl =\n",
              "          document.querySelector('#df-76e9975e-9aae-4c17-9144-79d266beffbe button.colab-df-convert');\n",
              "        buttonEl.style.display =\n",
              "          google.colab.kernel.accessAllowed ? 'block' : 'none';\n",
              "\n",
              "        async function convertToInteractive(key) {\n",
              "          const element = document.querySelector('#df-76e9975e-9aae-4c17-9144-79d266beffbe');\n",
              "          const dataTable =\n",
              "            await google.colab.kernel.invokeFunction('convertToInteractive',\n",
              "                                                     [key], {});\n",
              "          if (!dataTable) return;\n",
              "\n",
              "          const docLinkHtml = 'Like what you see? Visit the ' +\n",
              "            '<a target=\"_blank\" href=https://colab.research.google.com/notebooks/data_table.ipynb>data table notebook</a>'\n",
              "            + ' to learn more about interactive tables.';\n",
              "          element.innerHTML = '';\n",
              "          dataTable['output_type'] = 'display_data';\n",
              "          await google.colab.output.renderOutput(dataTable, element);\n",
              "          const docLink = document.createElement('div');\n",
              "          docLink.innerHTML = docLinkHtml;\n",
              "          element.appendChild(docLink);\n",
              "        }\n",
              "      </script>\n",
              "    </div>\n",
              "  </div>\n",
              "  "
            ]
          },
          "metadata": {},
          "execution_count": 29
        }
      ]
    },
    {
      "cell_type": "code",
      "source": [
        "# label them, because in the pervious code the \"handsome\" etc. are variables yet here they are strings. \n",
        "df = pd.DataFrame([w.vector for w in [handsome, comfortable, home, clever]])\n",
        "labels = [\"handsome\", \"comfortable\", \"home\", \"clever\"]\n",
        "df\n",
        "# 4 rows: 4 words\n",
        "# 300 columns: the number of the data shape\n"
      ],
      "metadata": {
        "id": "2LaSqaWK1KnR",
        "colab": {
          "base_uri": "https://localhost:8080/",
          "height": 268
        },
        "outputId": "dbaa9fb7-5b2f-4806-e295-f027d433da97"
      },
      "execution_count": 30,
      "outputs": [
        {
          "output_type": "execute_result",
          "data": {
            "text/plain": [
              "       0         1        2         3         4        5         6        7    \\\n",
              "0 -0.48545 -0.311410 -0.29298 -0.187270 -0.066323  0.05497  0.454070 -0.68138   \n",
              "1  0.78552  0.055299 -0.43261 -0.036727  0.208960  0.11237  0.308550 -0.51400   \n",
              "2  0.13523  0.449920 -0.25227  0.048482  0.273690 -0.26302  0.019556 -0.42490   \n",
              "3 -0.58926  0.147720 -0.19443 -0.588550 -0.760750  0.46817 -0.010063 -0.34770   \n",
              "\n",
              "        8       9    ...      290       291       292       293       294  \\\n",
              "0  0.023334  1.6600  ... -0.34681 -0.323670  0.039442 -0.048334  0.052368   \n",
              "1  0.123760  1.9911  ...  0.22339  0.363900 -0.059476 -0.333110  0.385020   \n",
              "2  0.595290  2.9473  ... -0.15026 -0.013011 -0.029494  0.509120  0.280090   \n",
              "3  0.217640  1.4417  ... -0.87678  0.192930 -0.186320  0.473680  0.332330   \n",
              "\n",
              "        295       296       297       298       299  \n",
              "0  0.522350  0.740570  0.212870 -0.060673 -0.150150  \n",
              "1  0.449050  0.072339  0.348980  0.096942 -0.084233  \n",
              "2 -0.065423 -0.090613 -0.255070 -0.014630 -0.336080  \n",
              "3  0.012969  0.563530 -0.003613 -0.051081  0.078023  \n",
              "\n",
              "[4 rows x 300 columns]"
            ],
            "text/html": [
              "\n",
              "  <div id=\"df-1666530d-e7a5-4995-a115-1b5385263f5a\">\n",
              "    <div class=\"colab-df-container\">\n",
              "      <div>\n",
              "<style scoped>\n",
              "    .dataframe tbody tr th:only-of-type {\n",
              "        vertical-align: middle;\n",
              "    }\n",
              "\n",
              "    .dataframe tbody tr th {\n",
              "        vertical-align: top;\n",
              "    }\n",
              "\n",
              "    .dataframe thead th {\n",
              "        text-align: right;\n",
              "    }\n",
              "</style>\n",
              "<table border=\"1\" class=\"dataframe\">\n",
              "  <thead>\n",
              "    <tr style=\"text-align: right;\">\n",
              "      <th></th>\n",
              "      <th>0</th>\n",
              "      <th>1</th>\n",
              "      <th>2</th>\n",
              "      <th>3</th>\n",
              "      <th>4</th>\n",
              "      <th>5</th>\n",
              "      <th>6</th>\n",
              "      <th>7</th>\n",
              "      <th>8</th>\n",
              "      <th>9</th>\n",
              "      <th>...</th>\n",
              "      <th>290</th>\n",
              "      <th>291</th>\n",
              "      <th>292</th>\n",
              "      <th>293</th>\n",
              "      <th>294</th>\n",
              "      <th>295</th>\n",
              "      <th>296</th>\n",
              "      <th>297</th>\n",
              "      <th>298</th>\n",
              "      <th>299</th>\n",
              "    </tr>\n",
              "  </thead>\n",
              "  <tbody>\n",
              "    <tr>\n",
              "      <th>0</th>\n",
              "      <td>-0.48545</td>\n",
              "      <td>-0.311410</td>\n",
              "      <td>-0.29298</td>\n",
              "      <td>-0.187270</td>\n",
              "      <td>-0.066323</td>\n",
              "      <td>0.05497</td>\n",
              "      <td>0.454070</td>\n",
              "      <td>-0.68138</td>\n",
              "      <td>0.023334</td>\n",
              "      <td>1.6600</td>\n",
              "      <td>...</td>\n",
              "      <td>-0.34681</td>\n",
              "      <td>-0.323670</td>\n",
              "      <td>0.039442</td>\n",
              "      <td>-0.048334</td>\n",
              "      <td>0.052368</td>\n",
              "      <td>0.522350</td>\n",
              "      <td>0.740570</td>\n",
              "      <td>0.212870</td>\n",
              "      <td>-0.060673</td>\n",
              "      <td>-0.150150</td>\n",
              "    </tr>\n",
              "    <tr>\n",
              "      <th>1</th>\n",
              "      <td>0.78552</td>\n",
              "      <td>0.055299</td>\n",
              "      <td>-0.43261</td>\n",
              "      <td>-0.036727</td>\n",
              "      <td>0.208960</td>\n",
              "      <td>0.11237</td>\n",
              "      <td>0.308550</td>\n",
              "      <td>-0.51400</td>\n",
              "      <td>0.123760</td>\n",
              "      <td>1.9911</td>\n",
              "      <td>...</td>\n",
              "      <td>0.22339</td>\n",
              "      <td>0.363900</td>\n",
              "      <td>-0.059476</td>\n",
              "      <td>-0.333110</td>\n",
              "      <td>0.385020</td>\n",
              "      <td>0.449050</td>\n",
              "      <td>0.072339</td>\n",
              "      <td>0.348980</td>\n",
              "      <td>0.096942</td>\n",
              "      <td>-0.084233</td>\n",
              "    </tr>\n",
              "    <tr>\n",
              "      <th>2</th>\n",
              "      <td>0.13523</td>\n",
              "      <td>0.449920</td>\n",
              "      <td>-0.25227</td>\n",
              "      <td>0.048482</td>\n",
              "      <td>0.273690</td>\n",
              "      <td>-0.26302</td>\n",
              "      <td>0.019556</td>\n",
              "      <td>-0.42490</td>\n",
              "      <td>0.595290</td>\n",
              "      <td>2.9473</td>\n",
              "      <td>...</td>\n",
              "      <td>-0.15026</td>\n",
              "      <td>-0.013011</td>\n",
              "      <td>-0.029494</td>\n",
              "      <td>0.509120</td>\n",
              "      <td>0.280090</td>\n",
              "      <td>-0.065423</td>\n",
              "      <td>-0.090613</td>\n",
              "      <td>-0.255070</td>\n",
              "      <td>-0.014630</td>\n",
              "      <td>-0.336080</td>\n",
              "    </tr>\n",
              "    <tr>\n",
              "      <th>3</th>\n",
              "      <td>-0.58926</td>\n",
              "      <td>0.147720</td>\n",
              "      <td>-0.19443</td>\n",
              "      <td>-0.588550</td>\n",
              "      <td>-0.760750</td>\n",
              "      <td>0.46817</td>\n",
              "      <td>-0.010063</td>\n",
              "      <td>-0.34770</td>\n",
              "      <td>0.217640</td>\n",
              "      <td>1.4417</td>\n",
              "      <td>...</td>\n",
              "      <td>-0.87678</td>\n",
              "      <td>0.192930</td>\n",
              "      <td>-0.186320</td>\n",
              "      <td>0.473680</td>\n",
              "      <td>0.332330</td>\n",
              "      <td>0.012969</td>\n",
              "      <td>0.563530</td>\n",
              "      <td>-0.003613</td>\n",
              "      <td>-0.051081</td>\n",
              "      <td>0.078023</td>\n",
              "    </tr>\n",
              "  </tbody>\n",
              "</table>\n",
              "<p>4 rows × 300 columns</p>\n",
              "</div>\n",
              "      <button class=\"colab-df-convert\" onclick=\"convertToInteractive('df-1666530d-e7a5-4995-a115-1b5385263f5a')\"\n",
              "              title=\"Convert this dataframe to an interactive table.\"\n",
              "              style=\"display:none;\">\n",
              "        \n",
              "  <svg xmlns=\"http://www.w3.org/2000/svg\" height=\"24px\"viewBox=\"0 0 24 24\"\n",
              "       width=\"24px\">\n",
              "    <path d=\"M0 0h24v24H0V0z\" fill=\"none\"/>\n",
              "    <path d=\"M18.56 5.44l.94 2.06.94-2.06 2.06-.94-2.06-.94-.94-2.06-.94 2.06-2.06.94zm-11 1L8.5 8.5l.94-2.06 2.06-.94-2.06-.94L8.5 2.5l-.94 2.06-2.06.94zm10 10l.94 2.06.94-2.06 2.06-.94-2.06-.94-.94-2.06-.94 2.06-2.06.94z\"/><path d=\"M17.41 7.96l-1.37-1.37c-.4-.4-.92-.59-1.43-.59-.52 0-1.04.2-1.43.59L10.3 9.45l-7.72 7.72c-.78.78-.78 2.05 0 2.83L4 21.41c.39.39.9.59 1.41.59.51 0 1.02-.2 1.41-.59l7.78-7.78 2.81-2.81c.8-.78.8-2.07 0-2.86zM5.41 20L4 18.59l7.72-7.72 1.47 1.35L5.41 20z\"/>\n",
              "  </svg>\n",
              "      </button>\n",
              "      \n",
              "  <style>\n",
              "    .colab-df-container {\n",
              "      display:flex;\n",
              "      flex-wrap:wrap;\n",
              "      gap: 12px;\n",
              "    }\n",
              "\n",
              "    .colab-df-convert {\n",
              "      background-color: #E8F0FE;\n",
              "      border: none;\n",
              "      border-radius: 50%;\n",
              "      cursor: pointer;\n",
              "      display: none;\n",
              "      fill: #1967D2;\n",
              "      height: 32px;\n",
              "      padding: 0 0 0 0;\n",
              "      width: 32px;\n",
              "    }\n",
              "\n",
              "    .colab-df-convert:hover {\n",
              "      background-color: #E2EBFA;\n",
              "      box-shadow: 0px 1px 2px rgba(60, 64, 67, 0.3), 0px 1px 3px 1px rgba(60, 64, 67, 0.15);\n",
              "      fill: #174EA6;\n",
              "    }\n",
              "\n",
              "    [theme=dark] .colab-df-convert {\n",
              "      background-color: #3B4455;\n",
              "      fill: #D2E3FC;\n",
              "    }\n",
              "\n",
              "    [theme=dark] .colab-df-convert:hover {\n",
              "      background-color: #434B5C;\n",
              "      box-shadow: 0px 1px 3px 1px rgba(0, 0, 0, 0.15);\n",
              "      filter: drop-shadow(0px 1px 2px rgba(0, 0, 0, 0.3));\n",
              "      fill: #FFFFFF;\n",
              "    }\n",
              "  </style>\n",
              "\n",
              "      <script>\n",
              "        const buttonEl =\n",
              "          document.querySelector('#df-1666530d-e7a5-4995-a115-1b5385263f5a button.colab-df-convert');\n",
              "        buttonEl.style.display =\n",
              "          google.colab.kernel.accessAllowed ? 'block' : 'none';\n",
              "\n",
              "        async function convertToInteractive(key) {\n",
              "          const element = document.querySelector('#df-1666530d-e7a5-4995-a115-1b5385263f5a');\n",
              "          const dataTable =\n",
              "            await google.colab.kernel.invokeFunction('convertToInteractive',\n",
              "                                                     [key], {});\n",
              "          if (!dataTable) return;\n",
              "\n",
              "          const docLinkHtml = 'Like what you see? Visit the ' +\n",
              "            '<a target=\"_blank\" href=https://colab.research.google.com/notebooks/data_table.ipynb>data table notebook</a>'\n",
              "            + ' to learn more about interactive tables.';\n",
              "          element.innerHTML = '';\n",
              "          dataTable['output_type'] = 'display_data';\n",
              "          await google.colab.output.renderOutput(dataTable, element);\n",
              "          const docLink = document.createElement('div');\n",
              "          docLink.innerHTML = docLinkHtml;\n",
              "          element.appendChild(docLink);\n",
              "        }\n",
              "      </script>\n",
              "    </div>\n",
              "  </div>\n",
              "  "
            ]
          },
          "metadata": {},
          "execution_count": 30
        }
      ]
    },
    {
      "cell_type": "code",
      "source": [
        "# use pca from tensorflow \n",
        "from sklearn.decomposition import PCA"
      ],
      "metadata": {
        "id": "go4O2bcT1_53"
      },
      "execution_count": 31,
      "outputs": []
    },
    {
      "cell_type": "code",
      "source": [
        "pca = PCA(n_components = 2)\n",
        "# we want 2 components\n"
      ],
      "metadata": {
        "id": "su4D929_2658"
      },
      "execution_count": 32,
      "outputs": []
    },
    {
      "cell_type": "code",
      "source": [
        "pcaOut = pca.fit_transform(df)\n",
        "# has four rows, representing four labels\n",
        "pcaOut"
      ],
      "metadata": {
        "id": "-mXyXlx-3K6F",
        "colab": {
          "base_uri": "https://localhost:8080/"
        },
        "outputId": "94032933-d130-45fd-9b5c-5401ceae5d31"
      },
      "execution_count": 33,
      "outputs": [
        {
          "output_type": "execute_result",
          "data": {
            "text/plain": [
              "array([[-3.124857  , -0.04651309],\n",
              "       [ 2.6330526 ,  3.7904885 ],\n",
              "       [ 3.2613022 , -3.39836   ],\n",
              "       [-2.7694979 , -0.345614  ]], dtype=float32)"
            ]
          },
          "metadata": {},
          "execution_count": 33
        }
      ]
    },
    {
      "cell_type": "code",
      "source": [
        "pcaDf = pd.DataFrame(pcaOut)\n",
        "pcaDf"
      ],
      "metadata": {
        "id": "h5hTCmIc3bZx",
        "colab": {
          "base_uri": "https://localhost:8080/",
          "height": 175
        },
        "outputId": "a8ce0aec-58b0-4274-895f-c34a0c32a24f"
      },
      "execution_count": 34,
      "outputs": [
        {
          "output_type": "execute_result",
          "data": {
            "text/plain": [
              "          0         1\n",
              "0 -3.124857 -0.046513\n",
              "1  2.633053  3.790488\n",
              "2  3.261302 -3.398360\n",
              "3 -2.769498 -0.345614"
            ],
            "text/html": [
              "\n",
              "  <div id=\"df-97a19f13-46db-4881-855b-7e854132512a\">\n",
              "    <div class=\"colab-df-container\">\n",
              "      <div>\n",
              "<style scoped>\n",
              "    .dataframe tbody tr th:only-of-type {\n",
              "        vertical-align: middle;\n",
              "    }\n",
              "\n",
              "    .dataframe tbody tr th {\n",
              "        vertical-align: top;\n",
              "    }\n",
              "\n",
              "    .dataframe thead th {\n",
              "        text-align: right;\n",
              "    }\n",
              "</style>\n",
              "<table border=\"1\" class=\"dataframe\">\n",
              "  <thead>\n",
              "    <tr style=\"text-align: right;\">\n",
              "      <th></th>\n",
              "      <th>0</th>\n",
              "      <th>1</th>\n",
              "    </tr>\n",
              "  </thead>\n",
              "  <tbody>\n",
              "    <tr>\n",
              "      <th>0</th>\n",
              "      <td>-3.124857</td>\n",
              "      <td>-0.046513</td>\n",
              "    </tr>\n",
              "    <tr>\n",
              "      <th>1</th>\n",
              "      <td>2.633053</td>\n",
              "      <td>3.790488</td>\n",
              "    </tr>\n",
              "    <tr>\n",
              "      <th>2</th>\n",
              "      <td>3.261302</td>\n",
              "      <td>-3.398360</td>\n",
              "    </tr>\n",
              "    <tr>\n",
              "      <th>3</th>\n",
              "      <td>-2.769498</td>\n",
              "      <td>-0.345614</td>\n",
              "    </tr>\n",
              "  </tbody>\n",
              "</table>\n",
              "</div>\n",
              "      <button class=\"colab-df-convert\" onclick=\"convertToInteractive('df-97a19f13-46db-4881-855b-7e854132512a')\"\n",
              "              title=\"Convert this dataframe to an interactive table.\"\n",
              "              style=\"display:none;\">\n",
              "        \n",
              "  <svg xmlns=\"http://www.w3.org/2000/svg\" height=\"24px\"viewBox=\"0 0 24 24\"\n",
              "       width=\"24px\">\n",
              "    <path d=\"M0 0h24v24H0V0z\" fill=\"none\"/>\n",
              "    <path d=\"M18.56 5.44l.94 2.06.94-2.06 2.06-.94-2.06-.94-.94-2.06-.94 2.06-2.06.94zm-11 1L8.5 8.5l.94-2.06 2.06-.94-2.06-.94L8.5 2.5l-.94 2.06-2.06.94zm10 10l.94 2.06.94-2.06 2.06-.94-2.06-.94-.94-2.06-.94 2.06-2.06.94z\"/><path d=\"M17.41 7.96l-1.37-1.37c-.4-.4-.92-.59-1.43-.59-.52 0-1.04.2-1.43.59L10.3 9.45l-7.72 7.72c-.78.78-.78 2.05 0 2.83L4 21.41c.39.39.9.59 1.41.59.51 0 1.02-.2 1.41-.59l7.78-7.78 2.81-2.81c.8-.78.8-2.07 0-2.86zM5.41 20L4 18.59l7.72-7.72 1.47 1.35L5.41 20z\"/>\n",
              "  </svg>\n",
              "      </button>\n",
              "      \n",
              "  <style>\n",
              "    .colab-df-container {\n",
              "      display:flex;\n",
              "      flex-wrap:wrap;\n",
              "      gap: 12px;\n",
              "    }\n",
              "\n",
              "    .colab-df-convert {\n",
              "      background-color: #E8F0FE;\n",
              "      border: none;\n",
              "      border-radius: 50%;\n",
              "      cursor: pointer;\n",
              "      display: none;\n",
              "      fill: #1967D2;\n",
              "      height: 32px;\n",
              "      padding: 0 0 0 0;\n",
              "      width: 32px;\n",
              "    }\n",
              "\n",
              "    .colab-df-convert:hover {\n",
              "      background-color: #E2EBFA;\n",
              "      box-shadow: 0px 1px 2px rgba(60, 64, 67, 0.3), 0px 1px 3px 1px rgba(60, 64, 67, 0.15);\n",
              "      fill: #174EA6;\n",
              "    }\n",
              "\n",
              "    [theme=dark] .colab-df-convert {\n",
              "      background-color: #3B4455;\n",
              "      fill: #D2E3FC;\n",
              "    }\n",
              "\n",
              "    [theme=dark] .colab-df-convert:hover {\n",
              "      background-color: #434B5C;\n",
              "      box-shadow: 0px 1px 3px 1px rgba(0, 0, 0, 0.15);\n",
              "      filter: drop-shadow(0px 1px 2px rgba(0, 0, 0, 0.3));\n",
              "      fill: #FFFFFF;\n",
              "    }\n",
              "  </style>\n",
              "\n",
              "      <script>\n",
              "        const buttonEl =\n",
              "          document.querySelector('#df-97a19f13-46db-4881-855b-7e854132512a button.colab-df-convert');\n",
              "        buttonEl.style.display =\n",
              "          google.colab.kernel.accessAllowed ? 'block' : 'none';\n",
              "\n",
              "        async function convertToInteractive(key) {\n",
              "          const element = document.querySelector('#df-97a19f13-46db-4881-855b-7e854132512a');\n",
              "          const dataTable =\n",
              "            await google.colab.kernel.invokeFunction('convertToInteractive',\n",
              "                                                     [key], {});\n",
              "          if (!dataTable) return;\n",
              "\n",
              "          const docLinkHtml = 'Like what you see? Visit the ' +\n",
              "            '<a target=\"_blank\" href=https://colab.research.google.com/notebooks/data_table.ipynb>data table notebook</a>'\n",
              "            + ' to learn more about interactive tables.';\n",
              "          element.innerHTML = '';\n",
              "          dataTable['output_type'] = 'display_data';\n",
              "          await google.colab.output.renderOutput(dataTable, element);\n",
              "          const docLink = document.createElement('div');\n",
              "          docLink.innerHTML = docLinkHtml;\n",
              "          element.appendChild(docLink);\n",
              "        }\n",
              "      </script>\n",
              "    </div>\n",
              "  </div>\n",
              "  "
            ]
          },
          "metadata": {},
          "execution_count": 34
        }
      ]
    },
    {
      "cell_type": "code",
      "source": [
        "pcaDf.plot (kind = 'scatter', x = 0, y = 1)\n",
        "ax = pcaDf.plot (kind = \"scatter\", x = 0, y = 1)"
      ],
      "metadata": {
        "id": "g1U1FrFj3ygJ",
        "colab": {
          "base_uri": "https://localhost:8080/",
          "height": 541
        },
        "outputId": "42d388f0-234a-4bb3-edb5-695702b99af3"
      },
      "execution_count": 35,
      "outputs": [
        {
          "output_type": "display_data",
          "data": {
            "text/plain": [
              "<Figure size 432x288 with 1 Axes>"
            ],
            "image/png": "[encoded data removed]"
          },
          "metadata": {
            "needs_background": "light"
          }
        },
        {
          "output_type": "display_data",
          "data": {
            "text/plain": [
              "<Figure size 432x288 with 1 Axes>"
            ],
            "image/png": "[encoded data removed]"
          },
          "metadata": {
            "needs_background": "light"
          }
        }
      ]
    },
    {
      "cell_type": "code",
      "source": [
        "ax = pcaDf.plot (kind = \"scatter\", x = 0, y = 1)\n",
        "for i, row in pcaDf.iterrows(): \n",
        "  ax.text(x=row[0], y=row[1], s=labels[i])"
      ],
      "metadata": {
        "id": "t8lR6yt-4BS4",
        "colab": {
          "base_uri": "https://localhost:8080/",
          "height": 279
        },
        "outputId": "b171cf56-b10a-49d3-87ba-963bb8f137c9"
      },
      "execution_count": 36,
      "outputs": [
        {
          "output_type": "display_data",
          "data": {
            "text/plain": [
              "<Figure size 432x288 with 1 Axes>"
            ],
            "image/png": "[encoded data removed]"
          },
          "metadata": {
            "needs_background": "light"
          }
        }
      ]
    },
    {
      "cell_type": "markdown",
      "source": [
        "handsome and clever are both used as people\n",
        "person semantic field - place semantic field"
      ],
      "metadata": {
        "id": "v-_Am0kf885H"
      }
    },
    {
      "cell_type": "markdown",
      "source": [
        "**code to get one kind of texts**\n",
        "\n",
        "**[w for w in document if w.pos- == \"\"]**"
      ],
      "metadata": {
        "id": "qMDT8dCl-Qt1"
      }
    },
    {
      "cell_type": "code",
      "source": [
        "# get adj. from Emma\n",
        "# return the word if it is an adj. in the first 100 words in Emma\n",
        "# words in \"\" can also be \"ADJ\" or \"NOUN\"\n",
        "[w for w in emmaDoc [:1000] if w.pos_==\"VERB\"]"
      ],
      "metadata": {
        "id": "FsUmYWMl45sh",
        "colab": {
          "base_uri": "https://localhost:8080/"
        },
        "outputId": "34975b3b-f4d0-4127-cde8-abb571e5f430"
      },
      "execution_count": 37,
      "outputs": [
        {
          "output_type": "execute_result",
          "data": {
            "text/plain": [
              "[seemed,\n",
              " unite,\n",
              " lived,\n",
              " distress,\n",
              " vex,\n",
              " died,\n",
              " supplied,\n",
              " fallen,\n",
              " ceased,\n",
              " hold,\n",
              " allowed,\n",
              " impose,\n",
              " passed,\n",
              " living,\n",
              " attached,\n",
              " doing,\n",
              " liked,\n",
              " esteeming,\n",
              " directed,\n",
              " having,\n",
              " think,\n",
              " threatened,\n",
              " came,\n",
              " married,\n",
              " brought,\n",
              " sat,\n",
              " gone,\n",
              " left,\n",
              " dine,\n",
              " cheer,\n",
              " composed,\n",
              " sleep,\n",
              " sit,\n",
              " think,\n",
              " lost,\n",
              " considering,\n",
              " denying,\n",
              " wished,\n",
              " promoted,\n",
              " would,\n",
              " felt,\n",
              " recalled,\n",
              " taught,\n",
              " played,\n",
              " devoted,\n",
              " attach,\n",
              " amuse,\n",
              " nursed,\n",
              " owing,\n",
              " followed,\n",
              " left,\n",
              " informed,\n",
              " knowing,\n",
              " could,\n",
              " speak,\n",
              " arose,\n",
              " could,\n",
              " find,\n",
              " bear,\n",
              " going,\n",
              " suffering,\n",
              " loved,\n",
              " could,\n",
              " meet,\n",
              " married,\n",
              " increased,\n",
              " having,\n",
              " could,\n",
              " recommended,\n",
              " removed,\n",
              " settled]"
            ]
          },
          "metadata": {},
          "execution_count": 37
        }
      ]
    },
    {
      "cell_type": "code",
      "source": [
        "emmaAdjs100 = [w for w in emmaDoc if w.pos_ == \"VERB\"][:100]\n",
        "# first 100 adj. in Emma"
      ],
      "metadata": {
        "id": "9XQNnsPt9c4b"
      },
      "execution_count": 38,
      "outputs": []
    },
    {
      "cell_type": "code",
      "source": [
        "emmaAdjs100"
      ],
      "metadata": {
        "id": "l9HtVG_u94I0",
        "colab": {
          "base_uri": "https://localhost:8080/"
        },
        "outputId": "a03ccc64-1bf6-4328-e771-ccb5c3337086"
      },
      "execution_count": 39,
      "outputs": [
        {
          "output_type": "execute_result",
          "data": {
            "text/plain": [
              "[seemed,\n",
              " unite,\n",
              " lived,\n",
              " distress,\n",
              " vex,\n",
              " died,\n",
              " supplied,\n",
              " fallen,\n",
              " ceased,\n",
              " hold,\n",
              " allowed,\n",
              " impose,\n",
              " passed,\n",
              " living,\n",
              " attached,\n",
              " doing,\n",
              " liked,\n",
              " esteeming,\n",
              " directed,\n",
              " having,\n",
              " think,\n",
              " threatened,\n",
              " came,\n",
              " married,\n",
              " brought,\n",
              " sat,\n",
              " gone,\n",
              " left,\n",
              " dine,\n",
              " cheer,\n",
              " composed,\n",
              " sleep,\n",
              " sit,\n",
              " think,\n",
              " lost,\n",
              " considering,\n",
              " denying,\n",
              " wished,\n",
              " promoted,\n",
              " would,\n",
              " felt,\n",
              " recalled,\n",
              " taught,\n",
              " played,\n",
              " devoted,\n",
              " attach,\n",
              " amuse,\n",
              " nursed,\n",
              " owing,\n",
              " followed,\n",
              " left,\n",
              " informed,\n",
              " knowing,\n",
              " could,\n",
              " speak,\n",
              " arose,\n",
              " could,\n",
              " find,\n",
              " bear,\n",
              " going,\n",
              " suffering,\n",
              " loved,\n",
              " could,\n",
              " meet,\n",
              " married,\n",
              " increased,\n",
              " having,\n",
              " could,\n",
              " recommended,\n",
              " removed,\n",
              " settled,\n",
              " must,\n",
              " struggled,\n",
              " brought,\n",
              " fill,\n",
              " give,\n",
              " amounting,\n",
              " belong,\n",
              " afforded,\n",
              " looked,\n",
              " could,\n",
              " accepted,\n",
              " could,\n",
              " sigh,\n",
              " wish,\n",
              " awoke,\n",
              " made,\n",
              " required,\n",
              " used,\n",
              " hating,\n",
              " hating,\n",
              " reconciled,\n",
              " could,\n",
              " speak,\n",
              " obliged,\n",
              " part,\n",
              " suppose,\n",
              " could,\n",
              " feel,\n",
              " disposed]"
            ]
          },
          "metadata": {},
          "execution_count": 39
        }
      ]
    },
    {
      "cell_type": "code",
      "source": [
        "df2 = pd.DataFrame([w.vector for w in emmaAdjs100])\n",
        "df2"
      ],
      "metadata": {
        "id": "75ItJPwE99oN",
        "colab": {
          "base_uri": "https://localhost:8080/",
          "height": 488
        },
        "outputId": "5ddc47f4-42ae-4351-ed28-aaa2dd4e946e"
      },
      "execution_count": 40,
      "outputs": [
        {
          "output_type": "execute_result",
          "data": {
            "text/plain": [
              "         0         1         2         3         4         5         6    \\\n",
              "0   0.118560  0.059397 -0.040724  0.115800 -0.010206  0.130220  0.025382   \n",
              "1  -0.141140 -0.299660  0.273670 -0.040477  0.011438 -0.768550 -0.294610   \n",
              "2   0.489290  0.185420  0.035343 -0.291660  0.260920  0.324240  0.035707   \n",
              "3  -0.826590  0.545060 -0.515190  0.142330 -0.603970 -0.928010  0.107500   \n",
              "4  -0.134810 -0.542600  0.195970 -0.569390 -0.093650 -0.001632  0.176690   \n",
              "..       ...       ...       ...       ...       ...       ...       ...   \n",
              "95  0.017526  0.017963  0.070976  0.247970  0.069849 -0.024703 -0.089529   \n",
              "96 -0.140280 -0.019835 -0.399620 -0.349740 -0.248410  0.232130  0.050406   \n",
              "97 -0.103760  0.206520 -0.193710  0.080069 -0.140730 -0.084578 -0.202190   \n",
              "98  0.126660  0.609630 -0.337180  0.045865  0.071621  0.116640  0.301630   \n",
              "99  0.712430 -0.058697  0.125610  0.300710 -0.034425  0.080072 -0.361190   \n",
              "\n",
              "         7         8        9    ...       290       291       292       293  \\\n",
              "0   0.068701 -0.166050  3.25540  ... -0.156580  0.240010  0.327300  0.340490   \n",
              "1   0.735990 -0.151860  1.84820  ... -0.325290  0.130320 -0.055372 -0.399830   \n",
              "2   0.006536  0.242270  3.56360  ... -0.209110  0.086586 -0.343590  0.653290   \n",
              "3   0.044845 -0.236490  1.82370  ... -0.444860  0.209330  0.125230  0.032595   \n",
              "4   0.123120 -0.413380 -0.32636  ... -0.503320 -0.914460 -0.054383  0.085445   \n",
              "..       ...       ...      ...  ...       ...       ...       ...       ...   \n",
              "95  0.212050 -0.066737  2.24770  ... -0.274430 -0.023149 -0.112640 -0.258210   \n",
              "96 -0.175800  0.140190  2.16610  ... -0.094409 -0.118370 -0.458080 -0.013415   \n",
              "97 -0.109440 -0.218480  3.06170  ... -0.347040  0.276880  0.190000  0.059757   \n",
              "98 -0.240020 -0.212050  2.57970  ... -0.003889  0.129150 -0.047795 -0.191600   \n",
              "99 -0.149830 -0.338300  1.34670  ...  0.061623 -0.041604 -0.224760 -0.492100   \n",
              "\n",
              "         294       295       296       297       298       299  \n",
              "0   0.300290  0.481810  0.146850 -0.035301  0.167830 -0.137390  \n",
              "1  -0.666190 -0.124610  0.513670 -0.293630 -0.302520  0.194330  \n",
              "2   0.222870  0.105510 -0.231340  0.278190  0.000008 -0.617440  \n",
              "3   0.289980  0.191920  0.064248  0.073600 -0.207680  0.030308  \n",
              "4   0.159030 -0.142530 -0.314770 -0.125370 -0.411090 -0.488890  \n",
              "..       ...       ...       ...       ...       ...       ...  \n",
              "95 -0.099369  0.080873 -0.155610  0.073454 -0.315570  0.116690  \n",
              "96  0.278720  0.125830 -0.284930 -0.202360  0.127840  0.000976  \n",
              "97  0.218450  0.015737 -0.235340 -0.240720  0.308560  0.179220  \n",
              "98  0.228050  0.247890 -0.468200  0.068683  0.283640  0.340470  \n",
              "99  0.050448 -0.471880  0.096891 -0.395120  0.053407  0.267790  \n",
              "\n",
              "[100 rows x 300 columns]"
            ],
            "text/html": [
              "\n",
              "  <div id=\"df-f8f455f5-a83b-442c-b5fa-3acaaaa4c362\">\n",
              "    <div class=\"colab-df-container\">\n",
              "      <div>\n",
              "<style scoped>\n",
              "    .dataframe tbody tr th:only-of-type {\n",
              "        vertical-align: middle;\n",
              "    }\n",
              "\n",
              "    .dataframe tbody tr th {\n",
              "        vertical-align: top;\n",
              "    }\n",
              "\n",
              "    .dataframe thead th {\n",
              "        text-align: right;\n",
              "    }\n",
              "</style>\n",
              "<table border=\"1\" class=\"dataframe\">\n",
              "  <thead>\n",
              "    <tr style=\"text-align: right;\">\n",
              "      <th></th>\n",
              "      <th>0</th>\n",
              "      <th>1</th>\n",
              "      <th>2</th>\n",
              "      <th>3</th>\n",
              "      <th>4</th>\n",
              "      <th>5</th>\n",
              "      <th>6</th>\n",
              "      <th>7</th>\n",
              "      <th>8</th>\n",
              "      <th>9</th>\n",
              "      <th>...</th>\n",
              "      <th>290</th>\n",
              "      <th>291</th>\n",
              "      <th>292</th>\n",
              "      <th>293</th>\n",
              "      <th>294</th>\n",
              "      <th>295</th>\n",
              "      <th>296</th>\n",
              "      <th>297</th>\n",
              "      <th>298</th>\n",
              "      <th>299</th>\n",
              "    </tr>\n",
              "  </thead>\n",
              "  <tbody>\n",
              "    <tr>\n",
              "      <th>0</th>\n",
              "      <td>0.118560</td>\n",
              "      <td>0.059397</td>\n",
              "      <td>-0.040724</td>\n",
              "      <td>0.115800</td>\n",
              "      <td>-0.010206</td>\n",
              "      <td>0.130220</td>\n",
              "      <td>0.025382</td>\n",
              "      <td>0.068701</td>\n",
              "      <td>-0.166050</td>\n",
              "      <td>3.25540</td>\n",
              "      <td>...</td>\n",
              "      <td>-0.156580</td>\n",
              "      <td>0.240010</td>\n",
              "      <td>0.327300</td>\n",
              "      <td>0.340490</td>\n",
              "      <td>0.300290</td>\n",
              "      <td>0.481810</td>\n",
              "      <td>0.146850</td>\n",
              "      <td>-0.035301</td>\n",
              "      <td>0.167830</td>\n",
              "      <td>-0.137390</td>\n",
              "    </tr>\n",
              "    <tr>\n",
              "      <th>1</th>\n",
              "      <td>-0.141140</td>\n",
              "      <td>-0.299660</td>\n",
              "      <td>0.273670</td>\n",
              "      <td>-0.040477</td>\n",
              "      <td>0.011438</td>\n",
              "      <td>-0.768550</td>\n",
              "      <td>-0.294610</td>\n",
              "      <td>0.735990</td>\n",
              "      <td>-0.151860</td>\n",
              "      <td>1.84820</td>\n",
              "      <td>...</td>\n",
              "      <td>-0.325290</td>\n",
              "      <td>0.130320</td>\n",
              "      <td>-0.055372</td>\n",
              "      <td>-0.399830</td>\n",
              "      <td>-0.666190</td>\n",
              "      <td>-0.124610</td>\n",
              "      <td>0.513670</td>\n",
              "      <td>-0.293630</td>\n",
              "      <td>-0.302520</td>\n",
              "      <td>0.194330</td>\n",
              "    </tr>\n",
              "    <tr>\n",
              "      <th>2</th>\n",
              "      <td>0.489290</td>\n",
              "      <td>0.185420</td>\n",
              "      <td>0.035343</td>\n",
              "      <td>-0.291660</td>\n",
              "      <td>0.260920</td>\n",
              "      <td>0.324240</td>\n",
              "      <td>0.035707</td>\n",
              "      <td>0.006536</td>\n",
              "      <td>0.242270</td>\n",
              "      <td>3.56360</td>\n",
              "      <td>...</td>\n",
              "      <td>-0.209110</td>\n",
              "      <td>0.086586</td>\n",
              "      <td>-0.343590</td>\n",
              "      <td>0.653290</td>\n",
              "      <td>0.222870</td>\n",
              "      <td>0.105510</td>\n",
              "      <td>-0.231340</td>\n",
              "      <td>0.278190</td>\n",
              "      <td>0.000008</td>\n",
              "      <td>-0.617440</td>\n",
              "    </tr>\n",
              "    <tr>\n",
              "      <th>3</th>\n",
              "      <td>-0.826590</td>\n",
              "      <td>0.545060</td>\n",
              "      <td>-0.515190</td>\n",
              "      <td>0.142330</td>\n",
              "      <td>-0.603970</td>\n",
              "      <td>-0.928010</td>\n",
              "      <td>0.107500</td>\n",
              "      <td>0.044845</td>\n",
              "      <td>-0.236490</td>\n",
              "      <td>1.82370</td>\n",
              "      <td>...</td>\n",
              "      <td>-0.444860</td>\n",
              "      <td>0.209330</td>\n",
              "      <td>0.125230</td>\n",
              "      <td>0.032595</td>\n",
              "      <td>0.289980</td>\n",
              "      <td>0.191920</td>\n",
              "      <td>0.064248</td>\n",
              "      <td>0.073600</td>\n",
              "      <td>-0.207680</td>\n",
              "      <td>0.030308</td>\n",
              "    </tr>\n",
              "    <tr>\n",
              "      <th>4</th>\n",
              "      <td>-0.134810</td>\n",
              "      <td>-0.542600</td>\n",
              "      <td>0.195970</td>\n",
              "      <td>-0.569390</td>\n",
              "      <td>-0.093650</td>\n",
              "      <td>-0.001632</td>\n",
              "      <td>0.176690</td>\n",
              "      <td>0.123120</td>\n",
              "      <td>-0.413380</td>\n",
              "      <td>-0.32636</td>\n",
              "      <td>...</td>\n",
              "      <td>-0.503320</td>\n",
              "      <td>-0.914460</td>\n",
              "      <td>-0.054383</td>\n",
              "      <td>0.085445</td>\n",
              "      <td>0.159030</td>\n",
              "      <td>-0.142530</td>\n",
              "      <td>-0.314770</td>\n",
              "      <td>-0.125370</td>\n",
              "      <td>-0.411090</td>\n",
              "      <td>-0.488890</td>\n",
              "    </tr>\n",
              "    <tr>\n",
              "      <th>...</th>\n",
              "      <td>...</td>\n",
              "      <td>...</td>\n",
              "      <td>...</td>\n",
              "      <td>...</td>\n",
              "      <td>...</td>\n",
              "      <td>...</td>\n",
              "      <td>...</td>\n",
              "      <td>...</td>\n",
              "      <td>...</td>\n",
              "      <td>...</td>\n",
              "      <td>...</td>\n",
              "      <td>...</td>\n",
              "      <td>...</td>\n",
              "      <td>...</td>\n",
              "      <td>...</td>\n",
              "      <td>...</td>\n",
              "      <td>...</td>\n",
              "      <td>...</td>\n",
              "      <td>...</td>\n",
              "      <td>...</td>\n",
              "      <td>...</td>\n",
              "    </tr>\n",
              "    <tr>\n",
              "      <th>95</th>\n",
              "      <td>0.017526</td>\n",
              "      <td>0.017963</td>\n",
              "      <td>0.070976</td>\n",
              "      <td>0.247970</td>\n",
              "      <td>0.069849</td>\n",
              "      <td>-0.024703</td>\n",
              "      <td>-0.089529</td>\n",
              "      <td>0.212050</td>\n",
              "      <td>-0.066737</td>\n",
              "      <td>2.24770</td>\n",
              "      <td>...</td>\n",
              "      <td>-0.274430</td>\n",
              "      <td>-0.023149</td>\n",
              "      <td>-0.112640</td>\n",
              "      <td>-0.258210</td>\n",
              "      <td>-0.099369</td>\n",
              "      <td>0.080873</td>\n",
              "      <td>-0.155610</td>\n",
              "      <td>0.073454</td>\n",
              "      <td>-0.315570</td>\n",
              "      <td>0.116690</td>\n",
              "    </tr>\n",
              "    <tr>\n",
              "      <th>96</th>\n",
              "      <td>-0.140280</td>\n",
              "      <td>-0.019835</td>\n",
              "      <td>-0.399620</td>\n",
              "      <td>-0.349740</td>\n",
              "      <td>-0.248410</td>\n",
              "      <td>0.232130</td>\n",
              "      <td>0.050406</td>\n",
              "      <td>-0.175800</td>\n",
              "      <td>0.140190</td>\n",
              "      <td>2.16610</td>\n",
              "      <td>...</td>\n",
              "      <td>-0.094409</td>\n",
              "      <td>-0.118370</td>\n",
              "      <td>-0.458080</td>\n",
              "      <td>-0.013415</td>\n",
              "      <td>0.278720</td>\n",
              "      <td>0.125830</td>\n",
              "      <td>-0.284930</td>\n",
              "      <td>-0.202360</td>\n",
              "      <td>0.127840</td>\n",
              "      <td>0.000976</td>\n",
              "    </tr>\n",
              "    <tr>\n",
              "      <th>97</th>\n",
              "      <td>-0.103760</td>\n",
              "      <td>0.206520</td>\n",
              "      <td>-0.193710</td>\n",
              "      <td>0.080069</td>\n",
              "      <td>-0.140730</td>\n",
              "      <td>-0.084578</td>\n",
              "      <td>-0.202190</td>\n",
              "      <td>-0.109440</td>\n",
              "      <td>-0.218480</td>\n",
              "      <td>3.06170</td>\n",
              "      <td>...</td>\n",
              "      <td>-0.347040</td>\n",
              "      <td>0.276880</td>\n",
              "      <td>0.190000</td>\n",
              "      <td>0.059757</td>\n",
              "      <td>0.218450</td>\n",
              "      <td>0.015737</td>\n",
              "      <td>-0.235340</td>\n",
              "      <td>-0.240720</td>\n",
              "      <td>0.308560</td>\n",
              "      <td>0.179220</td>\n",
              "    </tr>\n",
              "    <tr>\n",
              "      <th>98</th>\n",
              "      <td>0.126660</td>\n",
              "      <td>0.609630</td>\n",
              "      <td>-0.337180</td>\n",
              "      <td>0.045865</td>\n",
              "      <td>0.071621</td>\n",
              "      <td>0.116640</td>\n",
              "      <td>0.301630</td>\n",
              "      <td>-0.240020</td>\n",
              "      <td>-0.212050</td>\n",
              "      <td>2.57970</td>\n",
              "      <td>...</td>\n",
              "      <td>-0.003889</td>\n",
              "      <td>0.129150</td>\n",
              "      <td>-0.047795</td>\n",
              "      <td>-0.191600</td>\n",
              "      <td>0.228050</td>\n",
              "      <td>0.247890</td>\n",
              "      <td>-0.468200</td>\n",
              "      <td>0.068683</td>\n",
              "      <td>0.283640</td>\n",
              "      <td>0.340470</td>\n",
              "    </tr>\n",
              "    <tr>\n",
              "      <th>99</th>\n",
              "      <td>0.712430</td>\n",
              "      <td>-0.058697</td>\n",
              "      <td>0.125610</td>\n",
              "      <td>0.300710</td>\n",
              "      <td>-0.034425</td>\n",
              "      <td>0.080072</td>\n",
              "      <td>-0.361190</td>\n",
              "      <td>-0.149830</td>\n",
              "      <td>-0.338300</td>\n",
              "      <td>1.34670</td>\n",
              "      <td>...</td>\n",
              "      <td>0.061623</td>\n",
              "      <td>-0.041604</td>\n",
              "      <td>-0.224760</td>\n",
              "      <td>-0.492100</td>\n",
              "      <td>0.050448</td>\n",
              "      <td>-0.471880</td>\n",
              "      <td>0.096891</td>\n",
              "      <td>-0.395120</td>\n",
              "      <td>0.053407</td>\n",
              "      <td>0.267790</td>\n",
              "    </tr>\n",
              "  </tbody>\n",
              "</table>\n",
              "<p>100 rows × 300 columns</p>\n",
              "</div>\n",
              "      <button class=\"colab-df-convert\" onclick=\"convertToInteractive('df-f8f455f5-a83b-442c-b5fa-3acaaaa4c362')\"\n",
              "              title=\"Convert this dataframe to an interactive table.\"\n",
              "              style=\"display:none;\">\n",
              "        \n",
              "  <svg xmlns=\"http://www.w3.org/2000/svg\" height=\"24px\"viewBox=\"0 0 24 24\"\n",
              "       width=\"24px\">\n",
              "    <path d=\"M0 0h24v24H0V0z\" fill=\"none\"/>\n",
              "    <path d=\"M18.56 5.44l.94 2.06.94-2.06 2.06-.94-2.06-.94-.94-2.06-.94 2.06-2.06.94zm-11 1L8.5 8.5l.94-2.06 2.06-.94-2.06-.94L8.5 2.5l-.94 2.06-2.06.94zm10 10l.94 2.06.94-2.06 2.06-.94-2.06-.94-.94-2.06-.94 2.06-2.06.94z\"/><path d=\"M17.41 7.96l-1.37-1.37c-.4-.4-.92-.59-1.43-.59-.52 0-1.04.2-1.43.59L10.3 9.45l-7.72 7.72c-.78.78-.78 2.05 0 2.83L4 21.41c.39.39.9.59 1.41.59.51 0 1.02-.2 1.41-.59l7.78-7.78 2.81-2.81c.8-.78.8-2.07 0-2.86zM5.41 20L4 18.59l7.72-7.72 1.47 1.35L5.41 20z\"/>\n",
              "  </svg>\n",
              "      </button>\n",
              "      \n",
              "  <style>\n",
              "    .colab-df-container {\n",
              "      display:flex;\n",
              "      flex-wrap:wrap;\n",
              "      gap: 12px;\n",
              "    }\n",
              "\n",
              "    .colab-df-convert {\n",
              "      background-color: #E8F0FE;\n",
              "      border: none;\n",
              "      border-radius: 50%;\n",
              "      cursor: pointer;\n",
              "      display: none;\n",
              "      fill: #1967D2;\n",
              "      height: 32px;\n",
              "      padding: 0 0 0 0;\n",
              "      width: 32px;\n",
              "    }\n",
              "\n",
              "    .colab-df-convert:hover {\n",
              "      background-color: #E2EBFA;\n",
              "      box-shadow: 0px 1px 2px rgba(60, 64, 67, 0.3), 0px 1px 3px 1px rgba(60, 64, 67, 0.15);\n",
              "      fill: #174EA6;\n",
              "    }\n",
              "\n",
              "    [theme=dark] .colab-df-convert {\n",
              "      background-color: #3B4455;\n",
              "      fill: #D2E3FC;\n",
              "    }\n",
              "\n",
              "    [theme=dark] .colab-df-convert:hover {\n",
              "      background-color: #434B5C;\n",
              "      box-shadow: 0px 1px 3px 1px rgba(0, 0, 0, 0.15);\n",
              "      filter: drop-shadow(0px 1px 2px rgba(0, 0, 0, 0.3));\n",
              "      fill: #FFFFFF;\n",
              "    }\n",
              "  </style>\n",
              "\n",
              "      <script>\n",
              "        const buttonEl =\n",
              "          document.querySelector('#df-f8f455f5-a83b-442c-b5fa-3acaaaa4c362 button.colab-df-convert');\n",
              "        buttonEl.style.display =\n",
              "          google.colab.kernel.accessAllowed ? 'block' : 'none';\n",
              "\n",
              "        async function convertToInteractive(key) {\n",
              "          const element = document.querySelector('#df-f8f455f5-a83b-442c-b5fa-3acaaaa4c362');\n",
              "          const dataTable =\n",
              "            await google.colab.kernel.invokeFunction('convertToInteractive',\n",
              "                                                     [key], {});\n",
              "          if (!dataTable) return;\n",
              "\n",
              "          const docLinkHtml = 'Like what you see? Visit the ' +\n",
              "            '<a target=\"_blank\" href=https://colab.research.google.com/notebooks/data_table.ipynb>data table notebook</a>'\n",
              "            + ' to learn more about interactive tables.';\n",
              "          element.innerHTML = '';\n",
              "          dataTable['output_type'] = 'display_data';\n",
              "          await google.colab.output.renderOutput(dataTable, element);\n",
              "          const docLink = document.createElement('div');\n",
              "          docLink.innerHTML = docLinkHtml;\n",
              "          element.appendChild(docLink);\n",
              "        }\n",
              "      </script>\n",
              "    </div>\n",
              "  </div>\n",
              "  "
            ]
          },
          "metadata": {},
          "execution_count": 40
        }
      ]
    },
    {
      "cell_type": "code",
      "source": [
        "# set the labels\n",
        "adjLabels = [w.lemma_ for w in emmaAdjs100]\n",
        "adjLabels"
      ],
      "metadata": {
        "id": "XTB6Ybd3-v11",
        "colab": {
          "base_uri": "https://localhost:8080/"
        },
        "outputId": "9f706714-bbd7-447c-9ab8-28b353dd6756"
      },
      "execution_count": 41,
      "outputs": [
        {
          "output_type": "execute_result",
          "data": {
            "text/plain": [
              "['seem',\n",
              " 'unite',\n",
              " 'live',\n",
              " 'distress',\n",
              " 'vex',\n",
              " 'die',\n",
              " 'supply',\n",
              " 'fall',\n",
              " 'cease',\n",
              " 'hold',\n",
              " 'allow',\n",
              " 'impose',\n",
              " 'pass',\n",
              " 'live',\n",
              " 'attach',\n",
              " 'do',\n",
              " 'like',\n",
              " 'esteem',\n",
              " 'direct',\n",
              " 'have',\n",
              " 'think',\n",
              " 'threaten',\n",
              " 'come',\n",
              " 'marry',\n",
              " 'bring',\n",
              " 'sit',\n",
              " 'go',\n",
              " 'leave',\n",
              " 'dine',\n",
              " 'cheer',\n",
              " 'compose',\n",
              " 'sleep',\n",
              " 'sit',\n",
              " 'think',\n",
              " 'lose',\n",
              " 'consider',\n",
              " 'deny',\n",
              " 'wish',\n",
              " 'promote',\n",
              " 'would',\n",
              " 'feel',\n",
              " 'recall',\n",
              " 'teach',\n",
              " 'play',\n",
              " 'devote',\n",
              " 'attach',\n",
              " 'amuse',\n",
              " 'nurse',\n",
              " 'owe',\n",
              " 'follow',\n",
              " 'leave',\n",
              " 'inform',\n",
              " 'know',\n",
              " 'could',\n",
              " 'speak',\n",
              " 'arise',\n",
              " 'could',\n",
              " 'find',\n",
              " 'bear',\n",
              " 'go',\n",
              " 'suffer',\n",
              " 'love',\n",
              " 'could',\n",
              " 'meet',\n",
              " 'marry',\n",
              " 'increase',\n",
              " 'have',\n",
              " 'could',\n",
              " 'recommend',\n",
              " 'remove',\n",
              " 'settle',\n",
              " 'must',\n",
              " 'struggle',\n",
              " 'bring',\n",
              " 'fill',\n",
              " 'give',\n",
              " 'amount',\n",
              " 'belong',\n",
              " 'afford',\n",
              " 'look',\n",
              " 'could',\n",
              " 'accept',\n",
              " 'could',\n",
              " 'sigh',\n",
              " 'wish',\n",
              " 'awake',\n",
              " 'make',\n",
              " 'require',\n",
              " 'use',\n",
              " 'hate',\n",
              " 'hate',\n",
              " 'reconcile',\n",
              " 'could',\n",
              " 'speak',\n",
              " 'oblige',\n",
              " 'part',\n",
              " 'suppose',\n",
              " 'could',\n",
              " 'feel',\n",
              " 'dispose']"
            ]
          },
          "metadata": {},
          "execution_count": 41
        }
      ]
    },
    {
      "cell_type": "code",
      "source": [
        "pcaOut = pca.fit_transform(df2)\n",
        "pcaOut"
      ],
      "metadata": {
        "id": "eGupL08yAPpt",
        "colab": {
          "base_uri": "https://localhost:8080/"
        },
        "outputId": "6ca50a43-6764-4c4b-ce13-399eab12ce22"
      },
      "execution_count": 42,
      "outputs": [
        {
          "output_type": "execute_result",
          "data": {
            "text/plain": [
              "array([[-1.3187754e+00, -1.2664853e-01],\n",
              "       [ 1.4741724e+00,  6.1714852e-01],\n",
              "       [-1.8063184e+00,  2.4129272e+00],\n",
              "       [ 1.5713248e+00,  9.7295427e-01],\n",
              "       [ 2.2806857e+00,  1.9597441e+00],\n",
              "       [-1.9622180e+00,  3.0053456e+00],\n",
              "       [ 2.5511966e+00, -1.6747097e+00],\n",
              "       [ 3.6602009e-02,  1.1162269e+00],\n",
              "       [ 1.6824423e+00,  1.4303901e+00],\n",
              "       [ 3.7246367e-01, -1.4627452e+00],\n",
              "       [ 7.2381842e-01, -1.2511785e+00],\n",
              "       [ 2.7677665e+00, -9.6504921e-01],\n",
              "       [-4.7716253e-02,  3.8528877e-01],\n",
              "       [-8.6559016e-01,  8.6252725e-01],\n",
              "       [ 1.7130355e+00, -1.7968847e+00],\n",
              "       [-1.3935570e+00, -7.6035589e-01],\n",
              "       [-2.0136671e+00,  3.2184297e-01],\n",
              "       [ 3.5523407e+00,  3.6240458e+00],\n",
              "       [ 1.5879849e+00, -4.6499485e-01],\n",
              "       [-3.1802544e-01, -5.7060200e-01],\n",
              "       [-2.0805871e+00, -1.0345647e+00],\n",
              "       [ 8.3163601e-01,  5.7329643e-01],\n",
              "       [-1.5272077e+00,  3.8424593e-01],\n",
              "       [-2.1480598e+00,  2.7700129e+00],\n",
              "       [-1.9391064e-01,  3.2986751e-01],\n",
              "       [-1.4520721e+00,  1.2496059e+00],\n",
              "       [-1.3659120e+00,  1.6669303e-01],\n",
              "       [-9.2582351e-01, -1.9843982e-01],\n",
              "       [ 6.3046771e-01,  8.1774080e-01],\n",
              "       [-1.6562688e-01,  5.6244582e-01],\n",
              "       [ 1.5398512e+00, -8.7378375e-02],\n",
              "       [-9.5328140e-01,  3.0100060e-01],\n",
              "       [-8.7137848e-01, -5.3046542e-01],\n",
              "       [-2.0805871e+00, -1.0345644e+00],\n",
              "       [-1.1384540e+00,  3.3446655e-01],\n",
              "       [-1.3999000e-01, -7.9366452e-01],\n",
              "       [ 1.2140768e+00,  7.9741973e-01],\n",
              "       [-4.0231600e-01,  5.9392971e-01],\n",
              "       [ 1.1405998e+00,  2.9157484e-01],\n",
              "       [-9.7158283e-01, -1.7206522e+00],\n",
              "       [-1.6923509e+00,  1.5112518e-01],\n",
              "       [ 2.5820336e-01,  1.1102444e+00],\n",
              "       [-5.5737984e-01,  8.8485843e-01],\n",
              "       [-1.7986279e+00,  7.5068474e-01],\n",
              "       [ 8.7582296e-01,  1.0335958e+00],\n",
              "       [ 2.2275567e+00, -2.3204603e+00],\n",
              "       [ 1.4261558e+00,  9.3159002e-01],\n",
              "       [ 3.2950458e-01,  3.3439374e+00],\n",
              "       [ 2.5400021e+00,  6.7363137e-01],\n",
              "       [ 9.0031393e-02,  1.1227204e-01],\n",
              "       [-9.2582339e-01, -1.9843979e-01],\n",
              "       [ 6.2731379e-01, -2.4875537e-01],\n",
              "       [-6.5316719e-01,  1.0838393e-01],\n",
              "       [-1.1074771e+00, -1.8546163e+00],\n",
              "       [-5.8225214e-01, -9.9835426e-02],\n",
              "       [ 1.5898644e+00,  1.5281529e+00],\n",
              "       [-1.1074771e+00, -1.8546163e+00],\n",
              "       [-9.5612687e-01, -1.5756867e+00],\n",
              "       [ 4.3198383e-01, -1.1939005e-01],\n",
              "       [-1.7489949e+00, -1.1851376e+00],\n",
              "       [ 2.7346131e-01,  1.2220030e+00],\n",
              "       [-2.1368265e+00,  1.0574902e+00],\n",
              "       [-1.1074771e+00, -1.8546159e+00],\n",
              "       [ 2.5639033e-03, -8.8531208e-01],\n",
              "       [-2.1480601e+00,  2.7700126e+00],\n",
              "       [ 1.8179461e+00, -9.5845509e-01],\n",
              "       [-3.1802541e-01, -5.7060230e-01],\n",
              "       [-1.1074771e+00, -1.8546160e+00],\n",
              "       [ 1.3001764e+00, -1.6312901e+00],\n",
              "       [ 1.1286165e+00, -1.1479321e+00],\n",
              "       [-8.3861165e-02,  1.3487830e+00],\n",
              "       [ 4.7857526e-01, -2.1495419e+00],\n",
              "       [-8.3384639e-01,  1.0700117e+00],\n",
              "       [-1.9391066e-01,  3.2986766e-01],\n",
              "       [ 6.1768275e-01, -1.7853155e+00],\n",
              "       [-3.5148183e-01, -1.7536238e+00],\n",
              "       [ 3.2772758e+00,  6.6834521e-01],\n",
              "       [ 7.0549250e-01,  3.5437591e-02],\n",
              "       [ 2.2586117e+00,  2.2225533e-01],\n",
              "       [-2.1082284e+00,  3.4231383e-02],\n",
              "       [-1.1074771e+00, -1.8546160e+00],\n",
              "       [ 1.2842492e+00, -3.8537320e-01],\n",
              "       [-1.1074772e+00, -1.8546160e+00],\n",
              "       [-8.7367368e-01,  1.0428747e+00],\n",
              "       [-7.2432894e-01, -1.1378044e+00],\n",
              "       [-6.3688296e-01,  2.6952996e+00],\n",
              "       [-2.6068130e-01, -1.0877024e+00],\n",
              "       [ 2.1995041e+00, -2.7759168e+00],\n",
              "       [ 2.9861680e-01, -1.9811894e+00],\n",
              "       [-6.9980395e-01,  2.2452505e+00],\n",
              "       [-6.9980395e-01,  2.2452505e+00],\n",
              "       [ 2.0194876e+00,  2.1539214e+00],\n",
              "       [-1.1074772e+00, -1.8546160e+00],\n",
              "       [-5.8225179e-01, -9.9835619e-02],\n",
              "       [ 1.7419270e+00,  2.8618410e-01],\n",
              "       [ 2.9452583e-01, -9.9483860e-01],\n",
              "       [-7.0211887e-01, -3.2806152e-01],\n",
              "       [-1.1074769e+00, -1.8546163e+00],\n",
              "       [-1.6608865e+00, -8.5712850e-01],\n",
              "       [ 3.1662560e+00, -3.4897473e-01]], dtype=float32)"
            ]
          },
          "metadata": {},
          "execution_count": 42
        }
      ]
    },
    {
      "cell_type": "code",
      "source": [
        "pd.DataFrame(pcaOut)"
      ],
      "metadata": {
        "id": "73Y7zolSAiig",
        "colab": {
          "base_uri": "https://localhost:8080/",
          "height": 424
        },
        "outputId": "c00993c9-b8b6-4cf6-9d16-b8ee8f6022d0"
      },
      "execution_count": 43,
      "outputs": [
        {
          "output_type": "execute_result",
          "data": {
            "text/plain": [
              "           0         1\n",
              "0  -1.318775 -0.126649\n",
              "1   1.474172  0.617149\n",
              "2  -1.806318  2.412927\n",
              "3   1.571325  0.972954\n",
              "4   2.280686  1.959744\n",
              "..       ...       ...\n",
              "95  0.294526 -0.994839\n",
              "96 -0.702119 -0.328062\n",
              "97 -1.107477 -1.854616\n",
              "98 -1.660887 -0.857129\n",
              "99  3.166256 -0.348975\n",
              "\n",
              "[100 rows x 2 columns]"
            ],
            "text/html": [
              "\n",
              "  <div id=\"df-99fde783-deab-4cb2-9ed6-69c6f47a9df0\">\n",
              "    <div class=\"colab-df-container\">\n",
              "      <div>\n",
              "<style scoped>\n",
              "    .dataframe tbody tr th:only-of-type {\n",
              "        vertical-align: middle;\n",
              "    }\n",
              "\n",
              "    .dataframe tbody tr th {\n",
              "        vertical-align: top;\n",
              "    }\n",
              "\n",
              "    .dataframe thead th {\n",
              "        text-align: right;\n",
              "    }\n",
              "</style>\n",
              "<table border=\"1\" class=\"dataframe\">\n",
              "  <thead>\n",
              "    <tr style=\"text-align: right;\">\n",
              "      <th></th>\n",
              "      <th>0</th>\n",
              "      <th>1</th>\n",
              "    </tr>\n",
              "  </thead>\n",
              "  <tbody>\n",
              "    <tr>\n",
              "      <th>0</th>\n",
              "      <td>-1.318775</td>\n",
              "      <td>-0.126649</td>\n",
              "    </tr>\n",
              "    <tr>\n",
              "      <th>1</th>\n",
              "      <td>1.474172</td>\n",
              "      <td>0.617149</td>\n",
              "    </tr>\n",
              "    <tr>\n",
              "      <th>2</th>\n",
              "      <td>-1.806318</td>\n",
              "      <td>2.412927</td>\n",
              "    </tr>\n",
              "    <tr>\n",
              "      <th>3</th>\n",
              "      <td>1.571325</td>\n",
              "      <td>0.972954</td>\n",
              "    </tr>\n",
              "    <tr>\n",
              "      <th>4</th>\n",
              "      <td>2.280686</td>\n",
              "      <td>1.959744</td>\n",
              "    </tr>\n",
              "    <tr>\n",
              "      <th>...</th>\n",
              "      <td>...</td>\n",
              "      <td>...</td>\n",
              "    </tr>\n",
              "    <tr>\n",
              "      <th>95</th>\n",
              "      <td>0.294526</td>\n",
              "      <td>-0.994839</td>\n",
              "    </tr>\n",
              "    <tr>\n",
              "      <th>96</th>\n",
              "      <td>-0.702119</td>\n",
              "      <td>-0.328062</td>\n",
              "    </tr>\n",
              "    <tr>\n",
              "      <th>97</th>\n",
              "      <td>-1.107477</td>\n",
              "      <td>-1.854616</td>\n",
              "    </tr>\n",
              "    <tr>\n",
              "      <th>98</th>\n",
              "      <td>-1.660887</td>\n",
              "      <td>-0.857129</td>\n",
              "    </tr>\n",
              "    <tr>\n",
              "      <th>99</th>\n",
              "      <td>3.166256</td>\n",
              "      <td>-0.348975</td>\n",
              "    </tr>\n",
              "  </tbody>\n",
              "</table>\n",
              "<p>100 rows × 2 columns</p>\n",
              "</div>\n",
              "      <button class=\"colab-df-convert\" onclick=\"convertToInteractive('df-99fde783-deab-4cb2-9ed6-69c6f47a9df0')\"\n",
              "              title=\"Convert this dataframe to an interactive table.\"\n",
              "              style=\"display:none;\">\n",
              "        \n",
              "  <svg xmlns=\"http://www.w3.org/2000/svg\" height=\"24px\"viewBox=\"0 0 24 24\"\n",
              "       width=\"24px\">\n",
              "    <path d=\"M0 0h24v24H0V0z\" fill=\"none\"/>\n",
              "    <path d=\"M18.56 5.44l.94 2.06.94-2.06 2.06-.94-2.06-.94-.94-2.06-.94 2.06-2.06.94zm-11 1L8.5 8.5l.94-2.06 2.06-.94-2.06-.94L8.5 2.5l-.94 2.06-2.06.94zm10 10l.94 2.06.94-2.06 2.06-.94-2.06-.94-.94-2.06-.94 2.06-2.06.94z\"/><path d=\"M17.41 7.96l-1.37-1.37c-.4-.4-.92-.59-1.43-.59-.52 0-1.04.2-1.43.59L10.3 9.45l-7.72 7.72c-.78.78-.78 2.05 0 2.83L4 21.41c.39.39.9.59 1.41.59.51 0 1.02-.2 1.41-.59l7.78-7.78 2.81-2.81c.8-.78.8-2.07 0-2.86zM5.41 20L4 18.59l7.72-7.72 1.47 1.35L5.41 20z\"/>\n",
              "  </svg>\n",
              "      </button>\n",
              "      \n",
              "  <style>\n",
              "    .colab-df-container {\n",
              "      display:flex;\n",
              "      flex-wrap:wrap;\n",
              "      gap: 12px;\n",
              "    }\n",
              "\n",
              "    .colab-df-convert {\n",
              "      background-color: #E8F0FE;\n",
              "      border: none;\n",
              "      border-radius: 50%;\n",
              "      cursor: pointer;\n",
              "      display: none;\n",
              "      fill: #1967D2;\n",
              "      height: 32px;\n",
              "      padding: 0 0 0 0;\n",
              "      width: 32px;\n",
              "    }\n",
              "\n",
              "    .colab-df-convert:hover {\n",
              "      background-color: #E2EBFA;\n",
              "      box-shadow: 0px 1px 2px rgba(60, 64, 67, 0.3), 0px 1px 3px 1px rgba(60, 64, 67, 0.15);\n",
              "      fill: #174EA6;\n",
              "    }\n",
              "\n",
              "    [theme=dark] .colab-df-convert {\n",
              "      background-color: #3B4455;\n",
              "      fill: #D2E3FC;\n",
              "    }\n",
              "\n",
              "    [theme=dark] .colab-df-convert:hover {\n",
              "      background-color: #434B5C;\n",
              "      box-shadow: 0px 1px 3px 1px rgba(0, 0, 0, 0.15);\n",
              "      filter: drop-shadow(0px 1px 2px rgba(0, 0, 0, 0.3));\n",
              "      fill: #FFFFFF;\n",
              "    }\n",
              "  </style>\n",
              "\n",
              "      <script>\n",
              "        const buttonEl =\n",
              "          document.querySelector('#df-99fde783-deab-4cb2-9ed6-69c6f47a9df0 button.colab-df-convert');\n",
              "        buttonEl.style.display =\n",
              "          google.colab.kernel.accessAllowed ? 'block' : 'none';\n",
              "\n",
              "        async function convertToInteractive(key) {\n",
              "          const element = document.querySelector('#df-99fde783-deab-4cb2-9ed6-69c6f47a9df0');\n",
              "          const dataTable =\n",
              "            await google.colab.kernel.invokeFunction('convertToInteractive',\n",
              "                                                     [key], {});\n",
              "          if (!dataTable) return;\n",
              "\n",
              "          const docLinkHtml = 'Like what you see? Visit the ' +\n",
              "            '<a target=\"_blank\" href=https://colab.research.google.com/notebooks/data_table.ipynb>data table notebook</a>'\n",
              "            + ' to learn more about interactive tables.';\n",
              "          element.innerHTML = '';\n",
              "          dataTable['output_type'] = 'display_data';\n",
              "          await google.colab.output.renderOutput(dataTable, element);\n",
              "          const docLink = document.createElement('div');\n",
              "          docLink.innerHTML = docLinkHtml;\n",
              "          element.appendChild(docLink);\n",
              "        }\n",
              "      </script>\n",
              "    </div>\n",
              "  </div>\n",
              "  "
            ]
          },
          "metadata": {},
          "execution_count": 43
        }
      ]
    },
    {
      "cell_type": "code",
      "source": [
        "emmaAdjPca = pd.DataFrame(pcaOut)"
      ],
      "metadata": {
        "id": "sAbqSyd4BjiC"
      },
      "execution_count": 44,
      "outputs": []
    },
    {
      "cell_type": "code",
      "source": [
        "ax = emmaAdjPca.plot(kind = 'scatter', x = 0, y = 1, figsize = (15, 15))\n",
        "for i, row in emmaAdjPca.iterrows():\n",
        "  ax.text(x=row[0], y=row[1],s=adjLabels[i])"
      ],
      "metadata": {
        "id": "IBttWLKXBt4H",
        "colab": {
          "base_uri": "https://localhost:8080/",
          "height": 877
        },
        "outputId": "29affa09-7740-4bff-e60b-7b1d10ae445f"
      },
      "execution_count": 45,
      "outputs": [
        {
          "output_type": "display_data",
          "data": {
            "text/plain": [
              "<Figure size 1080x1080 with 1 Axes>"
            ],
            "image/png": "[encoded data removed]"
          },
          "metadata": {
            "needs_background": "light"
          }
        }
      ]
    },
    {
      "cell_type": "markdown",
      "source": [
        "positive words, negative words, semantic fields"
      ],
      "metadata": {
        "id": "IlIifFtSD0Ts"
      }
    },
    {
      "cell_type": "markdown",
      "source": [
        "document vectors"
      ],
      "metadata": {
        "id": "n9u3CzWMFY7r"
      }
    },
    {
      "cell_type": "code",
      "source": [
        "rawText = [gutenberg.raw(fid) for fid in gutenberg.fileids()]\n",
        "# get the fid (file id)"
      ],
      "metadata": {
        "id": "78wmq1wzCNNJ"
      },
      "execution_count": 50,
      "outputs": []
    },
    {
      "cell_type": "code",
      "source": [
        "labels = [fid [: -4] for fid in gutenberg.fileids()]\n",
        "# the last three file ids"
      ],
      "metadata": {
        "id": "mhaAdj23XaiK"
      },
      "execution_count": 53,
      "outputs": []
    },
    {
      "cell_type": "code",
      "source": [
        "labels"
      ],
      "metadata": {
        "colab": {
          "base_uri": "https://localhost:8080/"
        },
        "id": "J9tv_tORX0vu",
        "outputId": "c95a76bc-8791-4497-bde0-039791ae64ee"
      },
      "execution_count": 54,
      "outputs": [
        {
          "output_type": "execute_result",
          "data": {
            "text/plain": [
              "['austen-emma',\n",
              " 'austen-persuasion',\n",
              " 'austen-sense',\n",
              " 'bible-kjv',\n",
              " 'blake-poems',\n",
              " 'bryant-stories',\n",
              " 'burgess-busterbrown',\n",
              " 'carroll-alice',\n",
              " 'chesterton-ball',\n",
              " 'chesterton-brown',\n",
              " 'chesterton-thursday',\n",
              " 'edgeworth-parents',\n",
              " 'melville-moby_dick',\n",
              " 'milton-paradise',\n",
              " 'shakespeare-caesar',\n",
              " 'shakespeare-hamlet',\n",
              " 'shakespeare-macbeth',\n",
              " 'whitman-leaves']"
            ]
          },
          "metadata": {},
          "execution_count": 54
        }
      ]
    },
    {
      "cell_type": "code",
      "source": [
        "docs = [nlp (text [:10000]) for text in rawText]\n",
        "#look at the first 100000 characters"
      ],
      "metadata": {
        "id": "NPXyI1C3X5B8"
      },
      "execution_count": 56,
      "outputs": []
    },
    {
      "cell_type": "code",
      "source": [
        "docs[0]"
      ],
      "metadata": {
        "id": "LBgLhzUfYMUd"
      },
      "execution_count": null,
      "outputs": []
    },
    {
      "cell_type": "code",
      "source": [
        "vecs = [doc.vector for doc in docs]\n",
        "vecs"
      ],
      "metadata": {
        "id": "5npiGz0nZQaV"
      },
      "execution_count": null,
      "outputs": []
    },
    {
      "cell_type": "code",
      "source": [
        "df3 = pd.DataFrame(vecs)"
      ],
      "metadata": {
        "id": "c_eAmhVXZeWI"
      },
      "execution_count": 59,
      "outputs": []
    },
    {
      "cell_type": "code",
      "source": [
        "df3\n",
        "# 18 rows because there are 18 files in labels"
      ],
      "metadata": {
        "colab": {
          "base_uri": "https://localhost:8080/",
          "height": 707
        },
        "id": "MUgRjX1KZlOg",
        "outputId": "66159d00-6020-4f96-a0f3-cd8f963f7d4e"
      },
      "execution_count": 62,
      "outputs": [
        {
          "output_type": "execute_result",
          "data": {
            "text/plain": [
              "         0         1         2         3         4         5         6    \\\n",
              "0  -0.016244  0.187494 -0.151331 -0.063859  0.077160  0.006681  0.029320   \n",
              "1  -0.006876  0.173534 -0.131557 -0.068678  0.061081  0.002351  0.019629   \n",
              "2  -0.000993  0.170193 -0.133286 -0.056598  0.069807 -0.002466  0.016886   \n",
              "3   0.012871  0.101830 -0.076114 -0.140074  0.061971 -0.059283  0.046277   \n",
              "4   0.006234  0.136865 -0.109430 -0.075929  0.086357 -0.029823  0.027223   \n",
              "5  -0.001997  0.165431 -0.145104 -0.068064  0.102213  0.003728 -0.013521   \n",
              "6  -0.031983  0.165656 -0.154858 -0.091357  0.094554  0.033653 -0.016142   \n",
              "7  -0.010769  0.194250 -0.142248 -0.073109  0.101338  0.013490  0.019809   \n",
              "8  -0.001470  0.142658 -0.123610 -0.073058  0.098306 -0.006898  0.001041   \n",
              "9   0.001632  0.147017 -0.133571 -0.067541  0.108846 -0.002777 -0.000279   \n",
              "10 -0.002537  0.150127 -0.121818 -0.068167  0.100565 -0.001929  0.010129   \n",
              "11 -0.009336  0.184431 -0.146404 -0.078103  0.092515 -0.003893  0.003131   \n",
              "12  0.016383  0.121308 -0.120238 -0.065404  0.091164 -0.000434 -0.008675   \n",
              "13  0.007709  0.117320 -0.068711 -0.072247  0.072155 -0.017236  0.026373   \n",
              "14  0.006639  0.130179 -0.104651 -0.117922  0.071730 -0.002913  0.047384   \n",
              "15 -0.002793  0.122877 -0.110785 -0.093455  0.077794 -0.005091  0.045050   \n",
              "16  0.000417  0.118828 -0.105973 -0.103386  0.063034 -0.015772  0.047415   \n",
              "17  0.009295  0.142163 -0.129397 -0.056264  0.081310  0.018316  0.007535   \n",
              "\n",
              "         7         8         9    ...       290       291       292       293  \\\n",
              "0  -0.125978 -0.066799  2.099266  ... -0.143843  0.041233 -0.007079 -0.029134   \n",
              "1  -0.112031 -0.065314  2.149723  ... -0.163044  0.037227 -0.001317 -0.018368   \n",
              "2  -0.109226 -0.067872  2.134543  ... -0.155412  0.031415  0.001914 -0.016935   \n",
              "3  -0.073400 -0.101678  1.978868  ... -0.178044 -0.007431 -0.036304 -0.020010   \n",
              "4  -0.038375 -0.083382  1.833877  ... -0.174802  0.006932  0.004553 -0.043459   \n",
              "5  -0.102367 -0.066217  2.079596  ... -0.174051  0.023064  0.038248 -0.044629   \n",
              "6  -0.115313 -0.060703  2.137341  ... -0.161525  0.027858  0.003337 -0.044719   \n",
              "7  -0.116202 -0.073920  2.063831  ... -0.139226  0.025069  0.024075 -0.043752   \n",
              "8  -0.054625 -0.066499  2.014155  ... -0.161893  0.018360  0.018113 -0.045321   \n",
              "9  -0.078887 -0.067898  1.992629  ... -0.153690  0.016961  0.024189 -0.046311   \n",
              "10 -0.071597 -0.063857  2.066874  ... -0.161211  0.029161  0.016960 -0.049839   \n",
              "11 -0.115697 -0.079235  2.135475  ... -0.156576  0.023181  0.023900 -0.020983   \n",
              "12 -0.061192 -0.064239  1.905116  ... -0.165920  0.006331  0.009763 -0.059195   \n",
              "13  0.007930 -0.092275  1.872568  ... -0.189643  0.003949 -0.011523 -0.026597   \n",
              "14 -0.079997 -0.074519  1.565290  ... -0.123063 -0.005350 -0.080906 -0.047975   \n",
              "15 -0.101404 -0.075931  1.608980  ... -0.118957 -0.003197 -0.068501 -0.034107   \n",
              "16 -0.082265 -0.079306  1.566997  ... -0.120861 -0.004872 -0.063282 -0.037362   \n",
              "17 -0.041274 -0.057676  1.882418  ... -0.189984  0.010420 -0.004546 -0.067201   \n",
              "\n",
              "         294       295       296       297       298       299  \n",
              "0   0.053672  0.005752 -0.007443 -0.036844  0.002190  0.024258  \n",
              "1   0.018878  0.017455 -0.005986 -0.037985 -0.005545  0.018123  \n",
              "2   0.023320  0.011519 -0.004599 -0.024963 -0.004927  0.017459  \n",
              "3  -0.081766  0.019870  0.046971  0.061262 -0.036101 -0.008123  \n",
              "4  -0.048804  0.049106  0.038717  0.025313 -0.025537  0.021950  \n",
              "5   0.000026  0.002429  0.017089  0.016816  0.002304  0.031345  \n",
              "6   0.023765  0.018002  0.000443  0.000668  0.027335  0.040381  \n",
              "7   0.021898 -0.013333 -0.055604 -0.001776  0.029383  0.053390  \n",
              "8  -0.014973  0.027501 -0.011893  0.015862 -0.002559  0.034034  \n",
              "9  -0.007396  0.035919  0.007636  0.012410  0.002081  0.032322  \n",
              "10 -0.005003  0.036832 -0.001600  0.012424  0.001568  0.031862  \n",
              "11  0.019368 -0.016789 -0.010072  0.000594  0.004189  0.026312  \n",
              "12 -0.033108  0.042280 -0.007830 -0.001707 -0.018860  0.020003  \n",
              "13 -0.091689  0.057787  0.027123  0.012023 -0.021590 -0.013741  \n",
              "14  0.002534  0.022432  0.012125 -0.031057 -0.029121  0.017251  \n",
              "15 -0.003647  0.016273  0.014217 -0.023065 -0.036973  0.025021  \n",
              "16 -0.016992  0.025903  0.007175 -0.017649 -0.039888  0.013639  \n",
              "17 -0.053374  0.043678  0.015206 -0.016238 -0.026897  0.032079  \n",
              "\n",
              "[18 rows x 300 columns]"
            ],
            "text/html": [
              "\n",
              "  <div id=\"df-31eb9840-66e2-47e1-a3c0-67a50c24a78e\">\n",
              "    <div class=\"colab-df-container\">\n",
              "      <div>\n",
              "<style scoped>\n",
              "    .dataframe tbody tr th:only-of-type {\n",
              "        vertical-align: middle;\n",
              "    }\n",
              "\n",
              "    .dataframe tbody tr th {\n",
              "        vertical-align: top;\n",
              "    }\n",
              "\n",
              "    .dataframe thead th {\n",
              "        text-align: right;\n",
              "    }\n",
              "</style>\n",
              "<table border=\"1\" class=\"dataframe\">\n",
              "  <thead>\n",
              "    <tr style=\"text-align: right;\">\n",
              "      <th></th>\n",
              "      <th>0</th>\n",
              "      <th>1</th>\n",
              "      <th>2</th>\n",
              "      <th>3</th>\n",
              "      <th>4</th>\n",
              "      <th>5</th>\n",
              "      <th>6</th>\n",
              "      <th>7</th>\n",
              "      <th>8</th>\n",
              "      <th>9</th>\n",
              "      <th>...</th>\n",
              "      <th>290</th>\n",
              "      <th>291</th>\n",
              "      <th>292</th>\n",
              "      <th>293</th>\n",
              "      <th>294</th>\n",
              "      <th>295</th>\n",
              "      <th>296</th>\n",
              "      <th>297</th>\n",
              "      <th>298</th>\n",
              "      <th>299</th>\n",
              "    </tr>\n",
              "  </thead>\n",
              "  <tbody>\n",
              "    <tr>\n",
              "      <th>0</th>\n",
              "      <td>-0.016244</td>\n",
              "      <td>0.187494</td>\n",
              "      <td>-0.151331</td>\n",
              "      <td>-0.063859</td>\n",
              "      <td>0.077160</td>\n",
              "      <td>0.006681</td>\n",
              "      <td>0.029320</td>\n",
              "      <td>-0.125978</td>\n",
              "      <td>-0.066799</td>\n",
              "      <td>2.099266</td>\n",
              "      <td>...</td>\n",
              "      <td>-0.143843</td>\n",
              "      <td>0.041233</td>\n",
              "      <td>-0.007079</td>\n",
              "      <td>-0.029134</td>\n",
              "      <td>0.053672</td>\n",
              "      <td>0.005752</td>\n",
              "      <td>-0.007443</td>\n",
              "      <td>-0.036844</td>\n",
              "      <td>0.002190</td>\n",
              "      <td>0.024258</td>\n",
              "    </tr>\n",
              "    <tr>\n",
              "      <th>1</th>\n",
              "      <td>-0.006876</td>\n",
              "      <td>0.173534</td>\n",
              "      <td>-0.131557</td>\n",
              "      <td>-0.068678</td>\n",
              "      <td>0.061081</td>\n",
              "      <td>0.002351</td>\n",
              "      <td>0.019629</td>\n",
              "      <td>-0.112031</td>\n",
              "      <td>-0.065314</td>\n",
              "      <td>2.149723</td>\n",
              "      <td>...</td>\n",
              "      <td>-0.163044</td>\n",
              "      <td>0.037227</td>\n",
              "      <td>-0.001317</td>\n",
              "      <td>-0.018368</td>\n",
              "      <td>0.018878</td>\n",
              "      <td>0.017455</td>\n",
              "      <td>-0.005986</td>\n",
              "      <td>-0.037985</td>\n",
              "      <td>-0.005545</td>\n",
              "      <td>0.018123</td>\n",
              "    </tr>\n",
              "    <tr>\n",
              "      <th>2</th>\n",
              "      <td>-0.000993</td>\n",
              "      <td>0.170193</td>\n",
              "      <td>-0.133286</td>\n",
              "      <td>-0.056598</td>\n",
              "      <td>0.069807</td>\n",
              "      <td>-0.002466</td>\n",
              "      <td>0.016886</td>\n",
              "      <td>-0.109226</td>\n",
              "      <td>-0.067872</td>\n",
              "      <td>2.134543</td>\n",
              "      <td>...</td>\n",
              "      <td>-0.155412</td>\n",
              "      <td>0.031415</td>\n",
              "      <td>0.001914</td>\n",
              "      <td>-0.016935</td>\n",
              "      <td>0.023320</td>\n",
              "      <td>0.011519</td>\n",
              "      <td>-0.004599</td>\n",
              "      <td>-0.024963</td>\n",
              "      <td>-0.004927</td>\n",
              "      <td>0.017459</td>\n",
              "    </tr>\n",
              "    <tr>\n",
              "      <th>3</th>\n",
              "      <td>0.012871</td>\n",
              "      <td>0.101830</td>\n",
              "      <td>-0.076114</td>\n",
              "      <td>-0.140074</td>\n",
              "      <td>0.061971</td>\n",
              "      <td>-0.059283</td>\n",
              "      <td>0.046277</td>\n",
              "      <td>-0.073400</td>\n",
              "      <td>-0.101678</td>\n",
              "      <td>1.978868</td>\n",
              "      <td>...</td>\n",
              "      <td>-0.178044</td>\n",
              "      <td>-0.007431</td>\n",
              "      <td>-0.036304</td>\n",
              "      <td>-0.020010</td>\n",
              "      <td>-0.081766</td>\n",
              "      <td>0.019870</td>\n",
              "      <td>0.046971</td>\n",
              "      <td>0.061262</td>\n",
              "      <td>-0.036101</td>\n",
              "      <td>-0.008123</td>\n",
              "    </tr>\n",
              "    <tr>\n",
              "      <th>4</th>\n",
              "      <td>0.006234</td>\n",
              "      <td>0.136865</td>\n",
              "      <td>-0.109430</td>\n",
              "      <td>-0.075929</td>\n",
              "      <td>0.086357</td>\n",
              "      <td>-0.029823</td>\n",
              "      <td>0.027223</td>\n",
              "      <td>-0.038375</td>\n",
              "      <td>-0.083382</td>\n",
              "      <td>1.833877</td>\n",
              "      <td>...</td>\n",
              "      <td>-0.174802</td>\n",
              "      <td>0.006932</td>\n",
              "      <td>0.004553</td>\n",
              "      <td>-0.043459</td>\n",
              "      <td>-0.048804</td>\n",
              "      <td>0.049106</td>\n",
              "      <td>0.038717</td>\n",
              "      <td>0.025313</td>\n",
              "      <td>-0.025537</td>\n",
              "      <td>0.021950</td>\n",
              "    </tr>\n",
              "    <tr>\n",
              "      <th>5</th>\n",
              "      <td>-0.001997</td>\n",
              "      <td>0.165431</td>\n",
              "      <td>-0.145104</td>\n",
              "      <td>-0.068064</td>\n",
              "      <td>0.102213</td>\n",
              "      <td>0.003728</td>\n",
              "      <td>-0.013521</td>\n",
              "      <td>-0.102367</td>\n",
              "      <td>-0.066217</td>\n",
              "      <td>2.079596</td>\n",
              "      <td>...</td>\n",
              "      <td>-0.174051</td>\n",
              "      <td>0.023064</td>\n",
              "      <td>0.038248</td>\n",
              "      <td>-0.044629</td>\n",
              "      <td>0.000026</td>\n",
              "      <td>0.002429</td>\n",
              "      <td>0.017089</td>\n",
              "      <td>0.016816</td>\n",
              "      <td>0.002304</td>\n",
              "      <td>0.031345</td>\n",
              "    </tr>\n",
              "    <tr>\n",
              "      <th>6</th>\n",
              "      <td>-0.031983</td>\n",
              "      <td>0.165656</td>\n",
              "      <td>-0.154858</td>\n",
              "      <td>-0.091357</td>\n",
              "      <td>0.094554</td>\n",
              "      <td>0.033653</td>\n",
              "      <td>-0.016142</td>\n",
              "      <td>-0.115313</td>\n",
              "      <td>-0.060703</td>\n",
              "      <td>2.137341</td>\n",
              "      <td>...</td>\n",
              "      <td>-0.161525</td>\n",
              "      <td>0.027858</td>\n",
              "      <td>0.003337</td>\n",
              "      <td>-0.044719</td>\n",
              "      <td>0.023765</td>\n",
              "      <td>0.018002</td>\n",
              "      <td>0.000443</td>\n",
              "      <td>0.000668</td>\n",
              "      <td>0.027335</td>\n",
              "      <td>0.040381</td>\n",
              "    </tr>\n",
              "    <tr>\n",
              "      <th>7</th>\n",
              "      <td>-0.010769</td>\n",
              "      <td>0.194250</td>\n",
              "      <td>-0.142248</td>\n",
              "      <td>-0.073109</td>\n",
              "      <td>0.101338</td>\n",
              "      <td>0.013490</td>\n",
              "      <td>0.019809</td>\n",
              "      <td>-0.116202</td>\n",
              "      <td>-0.073920</td>\n",
              "      <td>2.063831</td>\n",
              "      <td>...</td>\n",
              "      <td>-0.139226</td>\n",
              "      <td>0.025069</td>\n",
              "      <td>0.024075</td>\n",
              "      <td>-0.043752</td>\n",
              "      <td>0.021898</td>\n",
              "      <td>-0.013333</td>\n",
              "      <td>-0.055604</td>\n",
              "      <td>-0.001776</td>\n",
              "      <td>0.029383</td>\n",
              "      <td>0.053390</td>\n",
              "    </tr>\n",
              "    <tr>\n",
              "      <th>8</th>\n",
              "      <td>-0.001470</td>\n",
              "      <td>0.142658</td>\n",
              "      <td>-0.123610</td>\n",
              "      <td>-0.073058</td>\n",
              "      <td>0.098306</td>\n",
              "      <td>-0.006898</td>\n",
              "      <td>0.001041</td>\n",
              "      <td>-0.054625</td>\n",
              "      <td>-0.066499</td>\n",
              "      <td>2.014155</td>\n",
              "      <td>...</td>\n",
              "      <td>-0.161893</td>\n",
              "      <td>0.018360</td>\n",
              "      <td>0.018113</td>\n",
              "      <td>-0.045321</td>\n",
              "      <td>-0.014973</td>\n",
              "      <td>0.027501</td>\n",
              "      <td>-0.011893</td>\n",
              "      <td>0.015862</td>\n",
              "      <td>-0.002559</td>\n",
              "      <td>0.034034</td>\n",
              "    </tr>\n",
              "    <tr>\n",
              "      <th>9</th>\n",
              "      <td>0.001632</td>\n",
              "      <td>0.147017</td>\n",
              "      <td>-0.133571</td>\n",
              "      <td>-0.067541</td>\n",
              "      <td>0.108846</td>\n",
              "      <td>-0.002777</td>\n",
              "      <td>-0.000279</td>\n",
              "      <td>-0.078887</td>\n",
              "      <td>-0.067898</td>\n",
              "      <td>1.992629</td>\n",
              "      <td>...</td>\n",
              "      <td>-0.153690</td>\n",
              "      <td>0.016961</td>\n",
              "      <td>0.024189</td>\n",
              "      <td>-0.046311</td>\n",
              "      <td>-0.007396</td>\n",
              "      <td>0.035919</td>\n",
              "      <td>0.007636</td>\n",
              "      <td>0.012410</td>\n",
              "      <td>0.002081</td>\n",
              "      <td>0.032322</td>\n",
              "    </tr>\n",
              "    <tr>\n",
              "      <th>10</th>\n",
              "      <td>-0.002537</td>\n",
              "      <td>0.150127</td>\n",
              "      <td>-0.121818</td>\n",
              "      <td>-0.068167</td>\n",
              "      <td>0.100565</td>\n",
              "      <td>-0.001929</td>\n",
              "      <td>0.010129</td>\n",
              "      <td>-0.071597</td>\n",
              "      <td>-0.063857</td>\n",
              "      <td>2.066874</td>\n",
              "      <td>...</td>\n",
              "      <td>-0.161211</td>\n",
              "      <td>0.029161</td>\n",
              "      <td>0.016960</td>\n",
              "      <td>-0.049839</td>\n",
              "      <td>-0.005003</td>\n",
              "      <td>0.036832</td>\n",
              "      <td>-0.001600</td>\n",
              "      <td>0.012424</td>\n",
              "      <td>0.001568</td>\n",
              "      <td>0.031862</td>\n",
              "    </tr>\n",
              "    <tr>\n",
              "      <th>11</th>\n",
              "      <td>-0.009336</td>\n",
              "      <td>0.184431</td>\n",
              "      <td>-0.146404</td>\n",
              "      <td>-0.078103</td>\n",
              "      <td>0.092515</td>\n",
              "      <td>-0.003893</td>\n",
              "      <td>0.003131</td>\n",
              "      <td>-0.115697</td>\n",
              "      <td>-0.079235</td>\n",
              "      <td>2.135475</td>\n",
              "      <td>...</td>\n",
              "      <td>-0.156576</td>\n",
              "      <td>0.023181</td>\n",
              "      <td>0.023900</td>\n",
              "      <td>-0.020983</td>\n",
              "      <td>0.019368</td>\n",
              "      <td>-0.016789</td>\n",
              "      <td>-0.010072</td>\n",
              "      <td>0.000594</td>\n",
              "      <td>0.004189</td>\n",
              "      <td>0.026312</td>\n",
              "    </tr>\n",
              "    <tr>\n",
              "      <th>12</th>\n",
              "      <td>0.016383</td>\n",
              "      <td>0.121308</td>\n",
              "      <td>-0.120238</td>\n",
              "      <td>-0.065404</td>\n",
              "      <td>0.091164</td>\n",
              "      <td>-0.000434</td>\n",
              "      <td>-0.008675</td>\n",
              "      <td>-0.061192</td>\n",
              "      <td>-0.064239</td>\n",
              "      <td>1.905116</td>\n",
              "      <td>...</td>\n",
              "      <td>-0.165920</td>\n",
              "      <td>0.006331</td>\n",
              "      <td>0.009763</td>\n",
              "      <td>-0.059195</td>\n",
              "      <td>-0.033108</td>\n",
              "      <td>0.042280</td>\n",
              "      <td>-0.007830</td>\n",
              "      <td>-0.001707</td>\n",
              "      <td>-0.018860</td>\n",
              "      <td>0.020003</td>\n",
              "    </tr>\n",
              "    <tr>\n",
              "      <th>13</th>\n",
              "      <td>0.007709</td>\n",
              "      <td>0.117320</td>\n",
              "      <td>-0.068711</td>\n",
              "      <td>-0.072247</td>\n",
              "      <td>0.072155</td>\n",
              "      <td>-0.017236</td>\n",
              "      <td>0.026373</td>\n",
              "      <td>0.007930</td>\n",
              "      <td>-0.092275</td>\n",
              "      <td>1.872568</td>\n",
              "      <td>...</td>\n",
              "      <td>-0.189643</td>\n",
              "      <td>0.003949</td>\n",
              "      <td>-0.011523</td>\n",
              "      <td>-0.026597</td>\n",
              "      <td>-0.091689</td>\n",
              "      <td>0.057787</td>\n",
              "      <td>0.027123</td>\n",
              "      <td>0.012023</td>\n",
              "      <td>-0.021590</td>\n",
              "      <td>-0.013741</td>\n",
              "    </tr>\n",
              "    <tr>\n",
              "      <th>14</th>\n",
              "      <td>0.006639</td>\n",
              "      <td>0.130179</td>\n",
              "      <td>-0.104651</td>\n",
              "      <td>-0.117922</td>\n",
              "      <td>0.071730</td>\n",
              "      <td>-0.002913</td>\n",
              "      <td>0.047384</td>\n",
              "      <td>-0.079997</td>\n",
              "      <td>-0.074519</td>\n",
              "      <td>1.565290</td>\n",
              "      <td>...</td>\n",
              "      <td>-0.123063</td>\n",
              "      <td>-0.005350</td>\n",
              "      <td>-0.080906</td>\n",
              "      <td>-0.047975</td>\n",
              "      <td>0.002534</td>\n",
              "      <td>0.022432</td>\n",
              "      <td>0.012125</td>\n",
              "      <td>-0.031057</td>\n",
              "      <td>-0.029121</td>\n",
              "      <td>0.017251</td>\n",
              "    </tr>\n",
              "    <tr>\n",
              "      <th>15</th>\n",
              "      <td>-0.002793</td>\n",
              "      <td>0.122877</td>\n",
              "      <td>-0.110785</td>\n",
              "      <td>-0.093455</td>\n",
              "      <td>0.077794</td>\n",
              "      <td>-0.005091</td>\n",
              "      <td>0.045050</td>\n",
              "      <td>-0.101404</td>\n",
              "      <td>-0.075931</td>\n",
              "      <td>1.608980</td>\n",
              "      <td>...</td>\n",
              "      <td>-0.118957</td>\n",
              "      <td>-0.003197</td>\n",
              "      <td>-0.068501</td>\n",
              "      <td>-0.034107</td>\n",
              "      <td>-0.003647</td>\n",
              "      <td>0.016273</td>\n",
              "      <td>0.014217</td>\n",
              "      <td>-0.023065</td>\n",
              "      <td>-0.036973</td>\n",
              "      <td>0.025021</td>\n",
              "    </tr>\n",
              "    <tr>\n",
              "      <th>16</th>\n",
              "      <td>0.000417</td>\n",
              "      <td>0.118828</td>\n",
              "      <td>-0.105973</td>\n",
              "      <td>-0.103386</td>\n",
              "      <td>0.063034</td>\n",
              "      <td>-0.015772</td>\n",
              "      <td>0.047415</td>\n",
              "      <td>-0.082265</td>\n",
              "      <td>-0.079306</td>\n",
              "      <td>1.566997</td>\n",
              "      <td>...</td>\n",
              "      <td>-0.120861</td>\n",
              "      <td>-0.004872</td>\n",
              "      <td>-0.063282</td>\n",
              "      <td>-0.037362</td>\n",
              "      <td>-0.016992</td>\n",
              "      <td>0.025903</td>\n",
              "      <td>0.007175</td>\n",
              "      <td>-0.017649</td>\n",
              "      <td>-0.039888</td>\n",
              "      <td>0.013639</td>\n",
              "    </tr>\n",
              "    <tr>\n",
              "      <th>17</th>\n",
              "      <td>0.009295</td>\n",
              "      <td>0.142163</td>\n",
              "      <td>-0.129397</td>\n",
              "      <td>-0.056264</td>\n",
              "      <td>0.081310</td>\n",
              "      <td>0.018316</td>\n",
              "      <td>0.007535</td>\n",
              "      <td>-0.041274</td>\n",
              "      <td>-0.057676</td>\n",
              "      <td>1.882418</td>\n",
              "      <td>...</td>\n",
              "      <td>-0.189984</td>\n",
              "      <td>0.010420</td>\n",
              "      <td>-0.004546</td>\n",
              "      <td>-0.067201</td>\n",
              "      <td>-0.053374</td>\n",
              "      <td>0.043678</td>\n",
              "      <td>0.015206</td>\n",
              "      <td>-0.016238</td>\n",
              "      <td>-0.026897</td>\n",
              "      <td>0.032079</td>\n",
              "    </tr>\n",
              "  </tbody>\n",
              "</table>\n",
              "<p>18 rows × 300 columns</p>\n",
              "</div>\n",
              "      <button class=\"colab-df-convert\" onclick=\"convertToInteractive('df-31eb9840-66e2-47e1-a3c0-67a50c24a78e')\"\n",
              "              title=\"Convert this dataframe to an interactive table.\"\n",
              "              style=\"display:none;\">\n",
              "        \n",
              "  <svg xmlns=\"http://www.w3.org/2000/svg\" height=\"24px\"viewBox=\"0 0 24 24\"\n",
              "       width=\"24px\">\n",
              "    <path d=\"M0 0h24v24H0V0z\" fill=\"none\"/>\n",
              "    <path d=\"M18.56 5.44l.94 2.06.94-2.06 2.06-.94-2.06-.94-.94-2.06-.94 2.06-2.06.94zm-11 1L8.5 8.5l.94-2.06 2.06-.94-2.06-.94L8.5 2.5l-.94 2.06-2.06.94zm10 10l.94 2.06.94-2.06 2.06-.94-2.06-.94-.94-2.06-.94 2.06-2.06.94z\"/><path d=\"M17.41 7.96l-1.37-1.37c-.4-.4-.92-.59-1.43-.59-.52 0-1.04.2-1.43.59L10.3 9.45l-7.72 7.72c-.78.78-.78 2.05 0 2.83L4 21.41c.39.39.9.59 1.41.59.51 0 1.02-.2 1.41-.59l7.78-7.78 2.81-2.81c.8-.78.8-2.07 0-2.86zM5.41 20L4 18.59l7.72-7.72 1.47 1.35L5.41 20z\"/>\n",
              "  </svg>\n",
              "      </button>\n",
              "      \n",
              "  <style>\n",
              "    .colab-df-container {\n",
              "      display:flex;\n",
              "      flex-wrap:wrap;\n",
              "      gap: 12px;\n",
              "    }\n",
              "\n",
              "    .colab-df-convert {\n",
              "      background-color: #E8F0FE;\n",
              "      border: none;\n",
              "      border-radius: 50%;\n",
              "      cursor: pointer;\n",
              "      display: none;\n",
              "      fill: #1967D2;\n",
              "      height: 32px;\n",
              "      padding: 0 0 0 0;\n",
              "      width: 32px;\n",
              "    }\n",
              "\n",
              "    .colab-df-convert:hover {\n",
              "      background-color: #E2EBFA;\n",
              "      box-shadow: 0px 1px 2px rgba(60, 64, 67, 0.3), 0px 1px 3px 1px rgba(60, 64, 67, 0.15);\n",
              "      fill: #174EA6;\n",
              "    }\n",
              "\n",
              "    [theme=dark] .colab-df-convert {\n",
              "      background-color: #3B4455;\n",
              "      fill: #D2E3FC;\n",
              "    }\n",
              "\n",
              "    [theme=dark] .colab-df-convert:hover {\n",
              "      background-color: #434B5C;\n",
              "      box-shadow: 0px 1px 3px 1px rgba(0, 0, 0, 0.15);\n",
              "      filter: drop-shadow(0px 1px 2px rgba(0, 0, 0, 0.3));\n",
              "      fill: #FFFFFF;\n",
              "    }\n",
              "  </style>\n",
              "\n",
              "      <script>\n",
              "        const buttonEl =\n",
              "          document.querySelector('#df-31eb9840-66e2-47e1-a3c0-67a50c24a78e button.colab-df-convert');\n",
              "        buttonEl.style.display =\n",
              "          google.colab.kernel.accessAllowed ? 'block' : 'none';\n",
              "\n",
              "        async function convertToInteractive(key) {\n",
              "          const element = document.querySelector('#df-31eb9840-66e2-47e1-a3c0-67a50c24a78e');\n",
              "          const dataTable =\n",
              "            await google.colab.kernel.invokeFunction('convertToInteractive',\n",
              "                                                     [key], {});\n",
              "          if (!dataTable) return;\n",
              "\n",
              "          const docLinkHtml = 'Like what you see? Visit the ' +\n",
              "            '<a target=\"_blank\" href=https://colab.research.google.com/notebooks/data_table.ipynb>data table notebook</a>'\n",
              "            + ' to learn more about interactive tables.';\n",
              "          element.innerHTML = '';\n",
              "          dataTable['output_type'] = 'display_data';\n",
              "          await google.colab.output.renderOutput(dataTable, element);\n",
              "          const docLink = document.createElement('div');\n",
              "          docLink.innerHTML = docLinkHtml;\n",
              "          element.appendChild(docLink);\n",
              "        }\n",
              "      </script>\n",
              "    </div>\n",
              "  </div>\n",
              "  "
            ]
          },
          "metadata": {},
          "execution_count": 62
        }
      ]
    },
    {
      "cell_type": "code",
      "source": [
        "pcaOut = pca.fit_transform (df3)"
      ],
      "metadata": {
        "id": "FHwgY8QvZnze"
      },
      "execution_count": 63,
      "outputs": []
    },
    {
      "cell_type": "code",
      "source": [
        "pcaOut"
      ],
      "metadata": {
        "colab": {
          "base_uri": "https://localhost:8080/"
        },
        "id": "7bCy649_Z7uW",
        "outputId": "1a1e2a32-753d-427c-fa7c-61e4f9b76588"
      },
      "execution_count": 64,
      "outputs": [
        {
          "output_type": "execute_result",
          "data": {
            "text/plain": [
              "array([[-0.2200914 , -0.07282436],\n",
              "       [-0.1840826 ,  0.05866268],\n",
              "       [-0.16486529,  0.08537062],\n",
              "       [ 0.29558134,  0.47917494],\n",
              "       [ 0.18826762,  0.12499789],\n",
              "       [-0.32113004, -0.01032246],\n",
              "       [-0.41104454, -0.09360008],\n",
              "       [-0.3357101 , -0.16905428],\n",
              "       [-0.13987142, -0.0017568 ],\n",
              "       [-0.15635045, -0.01736281],\n",
              "       [-0.19965504,  0.00056451],\n",
              "       [-0.26623884, -0.00390995],\n",
              "       [-0.01943197, -0.0096524 ],\n",
              "       [ 0.31428748,  0.23207791],\n",
              "       [ 0.5276307 , -0.2563228 ],\n",
              "       [ 0.46282512, -0.20156385],\n",
              "       [ 0.5326143 , -0.20511067],\n",
              "       [ 0.09726412,  0.06063271]], dtype=float32)"
            ]
          },
          "metadata": {},
          "execution_count": 64
        }
      ]
    },
    {
      "cell_type": "code",
      "source": [
        "def plotPCA (ef, labels):\n",
        "  ax = df3.plot(kind = 'scatter', x = 0, y = 1, figsize = (12, 12))\n",
        "  for i, row in df3.iterrows():\n",
        "    ax.text(x=row[0], y=row[1],s=labels[i])"
      ],
      "metadata": {
        "id": "YiEEC3E1Z-Pu"
      },
      "execution_count": 72,
      "outputs": []
    },
    {
      "cell_type": "code",
      "source": [
        "plotPCA(df, labels)"
      ],
      "metadata": {
        "colab": {
          "base_uri": "https://localhost:8080/",
          "height": 714
        },
        "id": "IPgVLAaiaebo",
        "outputId": "94c5a339-c57c-4f57-cff7-8cd7ad98d548"
      },
      "execution_count": 73,
      "outputs": [
        {
          "output_type": "display_data",
          "data": {
            "text/plain": [
              "<Figure size 864x864 with 1 Axes>"
            ],
            "image/png": "[encoded data removed]"
          },
          "metadata": {
            "needs_background": "light"
          }
        }
      ]
    },
    {
      "cell_type": "code",
      "source": [
        "# try other corpus\n",
        "from nltk.corpus import inaugural\n",
        "nltk.download('inaugural')"
      ],
      "metadata": {
        "colab": {
          "base_uri": "https://localhost:8080/"
        },
        "id": "C4ayYyGZbBmu",
        "outputId": "5c475884-0f6a-49c8-b7f5-0201cd5f41b3"
      },
      "execution_count": 76,
      "outputs": [
        {
          "output_type": "stream",
          "name": "stdout",
          "text": [
            "[nltk_data] Downloading package inaugural to /root/nltk_data...\n",
            "[nltk_data]   Unzipping corpora/inaugural.zip.\n"
          ]
        },
        {
          "output_type": "execute_result",
          "data": {
            "text/plain": [
              "True"
            ]
          },
          "metadata": {},
          "execution_count": 76
        }
      ]
    },
    {
      "cell_type": "code",
      "source": [
        "rawText = [inaugural.raw(fid) for fid in inaugural.fileids()]"
      ],
      "metadata": {
        "id": "LO_p6_e4cD8U"
      },
      "execution_count": 77,
      "outputs": []
    },
    {
      "cell_type": "code",
      "source": [
        "labels = [fid [:-4] for fid in inaugural.fileids()]"
      ],
      "metadata": {
        "id": "iF2lXjF1cdPW"
      },
      "execution_count": 78,
      "outputs": []
    },
    {
      "cell_type": "code",
      "source": [
        "labels"
      ],
      "metadata": {
        "id": "KVpjqAwpc8H2"
      },
      "execution_count": null,
      "outputs": []
    },
    {
      "cell_type": "code",
      "source": [
        "[text[:-4] for text in rawText]"
      ],
      "metadata": {
        "id": "9xqYQd1fc9w-"
      },
      "execution_count": null,
      "outputs": []
    },
    {
      "cell_type": "code",
      "source": [
        "docs = [nlp(text) for text in rawText]"
      ],
      "metadata": {
        "id": "NIpvRQYfdK-I"
      },
      "execution_count": 82,
      "outputs": []
    },
    {
      "cell_type": "code",
      "source": [
        "vecs = [doc.vector for doc in docs]"
      ],
      "metadata": {
        "id": "WpFogUQLdna9"
      },
      "execution_count": 84,
      "outputs": []
    },
    {
      "cell_type": "code",
      "source": [
        "df4 = pd.DataFrame(vecs)\n",
        "df4"
      ],
      "metadata": {
        "id": "oY7oy5ajd81f"
      },
      "execution_count": null,
      "outputs": []
    },
    {
      "cell_type": "code",
      "source": [
        "pcaOut = pd.DataFrame(pca.fit_transform(df4))\n",
        "pcaOut"
      ],
      "metadata": {
        "id": "i7ChIKf3eAOy"
      },
      "execution_count": null,
      "outputs": []
    },
    {
      "cell_type": "code",
      "source": [
        "plotPCA (pcaOut, labels)"
      ],
      "metadata": {
        "colab": {
          "base_uri": "https://localhost:8080/",
          "height": 714
        },
        "id": "8NriVoQbeSYs",
        "outputId": "dfd97873-44bf-45f4-8b5d-35ff902263d8"
      },
      "execution_count": 89,
      "outputs": [
        {
          "output_type": "display_data",
          "data": {
            "text/plain": [
              "<Figure size 864x864 with 1 Axes>"
            ],
            "image/png": "[encoded data removed]"
          },
          "metadata": {
            "needs_background": "light"
          }
        }
      ]
    },
    {
      "cell_type": "code",
      "source": [
        ""
      ],
      "metadata": {
        "id": "XwBh1Qq8esrm"
      },
      "execution_count": null,
      "outputs": []
    }
  ]
}