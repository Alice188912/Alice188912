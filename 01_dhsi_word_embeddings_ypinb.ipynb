{
  "nbformat": 4,
  "nbformat_minor": 0,
  "metadata": {
    "colab": {
      "name": "01-dhsi-word-embeddings.ypinb",
      "provenance": [],
      "collapsed_sections": [],
      "authorship_tag": "ABX9TyMxFLbmYbj5MxAtk/kX4dB7",
      "include_colab_link": true
    },
    "kernelspec": {
      "name": "python3",
      "display_name": "Python 3"
    },
    "language_info": {
      "name": "python"
    }
  },
  "cells": [
    {
      "cell_type": "markdown",
      "metadata": {
        "id": "view-in-github",
        "colab_type": "text"
      },
      "source": [
        "<a href=\"https://colab.research.google.com/github/Alice188912/Alice188912/blob/main/01_dhsi_word_embeddings_ypinb.ipynb\" target=\"_parent\"><img src=\"https://colab.research.google.com/assets/colab-badge.svg\" alt=\"Open In Colab\"/></a>"
      ]
    },
    {
      "cell_type": "markdown",
      "source": [
        "[link to first lecture](https://tubedu.org/w/312b6e65-0cfa-4a66-aed8-ff2176b4138c)\n",
        "\n",
        "[link to the reading](https://web.stanford.edu/~jurafsky/slp3/6.pdf)"
      ],
      "metadata": {
        "id": "WWoMCKNBU1md"
      }
    },
    {
      "cell_type": "markdown",
      "source": [
        "# meaningful text analy with word embeddings\n",
        "\n",
        "- What is meaning\n",
        "- What is a text/document\n",
        "- what is a word\n",
        "- what is an embedding\n",
        "\n",
        "features of words:\n",
        "synonyms, subordinates, superordinates...\n",
        "\n",
        "\n",
        "\n",
        "1.   What is a word?\n",
        "- lemma (e.g. flower)\n",
        "- token (e.g. flowers)\n",
        "- stem (e.g. flow) -> the chopped up version of the word\n",
        "\n",
        "\n",
        "\n",
        "\n"
      ],
      "metadata": {
        "id": "lw5BuTV-JrPW"
      }
    },
    {
      "cell_type": "code",
      "source": [
        "import nltk\n",
        "from nltk.book import *\n",
        "nltk.download('wordnet')\n",
        "nltk.download('book')"
      ],
      "metadata": {
        "id": "5122u50RNHfr"
      },
      "execution_count": null,
      "outputs": []
    },
    {
      "cell_type": "code",
      "source": [
        "lemmatizer = nltk.stem.WordNetLemmatizer()"
      ],
      "metadata": {
        "id": "dUinLuoMOGu7"
      },
      "execution_count": null,
      "outputs": []
    },
    {
      "cell_type": "code",
      "source": [
        "lemmatizer.lemmatize('flowers')"
      ],
      "metadata": {
        "colab": {
          "base_uri": "https://localhost:8080/",
          "height": 35
        },
        "id": "xZpW1zp5OZf5",
        "outputId": "d1be1818-0e4e-4911-e1c3-143d2b186d87"
      },
      "execution_count": null,
      "outputs": [
        {
          "output_type": "execute_result",
          "data": {
            "text/plain": [
              "'flower'"
            ],
            "application/vnd.google.colaboratory.intrinsic+json": {
              "type": "string"
            }
          },
          "metadata": {},
          "execution_count": 6
        }
      ]
    },
    {
      "cell_type": "markdown",
      "source": [
        "**What is meaning?**\n",
        "- konw the word by the company it keeps\n",
        "- Wittengenstein: meaning is the use of a word in its language\n",
        "- look at the context of the word (other words)\n",
        "\n",
        "**What is a text/document?**\n",
        "- any collections of words e.g. an act, a sentence, a chapter, a novel, a phrase..."
      ],
      "metadata": {
        "id": "R7VOIFxKPBXA"
      }
    },
    {
      "cell_type": "code",
      "source": [
        "text6\n"
      ],
      "metadata": {
        "colab": {
          "base_uri": "https://localhost:8080/"
        },
        "id": "0AEN44GyPJKS",
        "outputId": "4cc4930b-5ebc-461b-e983-c025f4103098"
      },
      "execution_count": null,
      "outputs": [
        {
          "output_type": "execute_result",
          "data": {
            "text/plain": [
              "<Text: Monty Python and the Holy Grail>"
            ]
          },
          "metadata": {},
          "execution_count": 10
        }
      ]
    },
    {
      "cell_type": "markdown",
      "source": [
        "to see the first 100 parts of text 6\n",
        "first break everything down into words (tokenization)"
      ],
      "metadata": {
        "id": "vn0nmAnWRGyh"
      }
    },
    {
      "cell_type": "code",
      "source": [
        "text6[:100]"
      ],
      "metadata": {
        "id": "IeUhIynWRKi0"
      },
      "execution_count": null,
      "outputs": []
    },
    {
      "cell_type": "code",
      "source": [
        "text = \"Alice in Wonderland\""
      ],
      "metadata": {
        "id": "SN_LxB6rR3FG"
      },
      "execution_count": null,
      "outputs": []
    },
    {
      "cell_type": "code",
      "source": [
        "text"
      ],
      "metadata": {
        "colab": {
          "base_uri": "https://localhost:8080/",
          "height": 35
        },
        "id": "CwcBLpioRNu6",
        "outputId": "e367c528-e85c-4d91-d58d-fa326bfd5c9b"
      },
      "execution_count": null,
      "outputs": [
        {
          "output_type": "execute_result",
          "data": {
            "text/plain": [
              "'Alice in Wonderland'"
            ],
            "application/vnd.google.colaboratory.intrinsic+json": {
              "type": "string"
            }
          },
          "metadata": {},
          "execution_count": 14
        }
      ]
    },
    {
      "cell_type": "code",
      "source": [
        "nltk.word_tokenize(text)"
      ],
      "metadata": {
        "colab": {
          "base_uri": "https://localhost:8080/"
        },
        "id": "LgJPbhhcSB1J",
        "outputId": "62fc1d92-64b6-46bf-8eb9-42f3649361a4"
      },
      "execution_count": null,
      "outputs": [
        {
          "output_type": "execute_result",
          "data": {
            "text/plain": [
              "['Alice', 'in', 'Wonderland']"
            ]
          },
          "metadata": {},
          "execution_count": 15
        }
      ]
    },
    {
      "cell_type": "markdown",
      "source": [
        "**What is an embedding?**\n",
        "Embedding is to represent words in a vector space\n",
        "\n",
        "What is vector?\n"
      ],
      "metadata": {
        "id": "fqsfNKUGSrGH"
      }
    },
    {
      "cell_type": "code",
      "source": [
        "# vector: a collection of numbers e.g. [2, 3, 4]"
      ],
      "metadata": {
        "id": "wf6OiFgJSJ38"
      },
      "execution_count": null,
      "outputs": []
    },
    {
      "cell_type": "markdown",
      "source": [
        "Skip-Gram model: skip some words\n",
        "\n",
        "use vectors to represent the approximation of meanings\n",
        "\n",
        "use cosine to calculate the distance between two vestors\n",
        "\n",
        "useful tool: tensorflow\n",
        "\n",
        "[tensorflow](http://projector.tensorflow.org/)\n",
        "\n",
        "tensorflow.word"
      ],
      "metadata": {
        "id": "8HfYX7GETzT3"
      }
    },
    {
      "cell_type": "code",
      "source": [
        ""
      ],
      "metadata": {
        "id": "eM0vwdX-Wjsk"
      },
      "execution_count": null,
      "outputs": []
    }
  ]
}